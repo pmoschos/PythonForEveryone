{
    "cells": [
        {
            "cell_type": "markdown",
            "metadata": {},
            "source": "<h1>\ud83d\udd39 19 Dictionary Assessments in Python \ud83d\udc0d</h1>\n\n<p>This document provides 19 dictionary assessments in Python, ranging from easy to hard, including their solutions and expected results.</p>\n\n<h2>\ud83d\udd39 Easy Assessments</h2>\n\n<h3>\ud83d\udd39 1. Create a Dictionary</h3>\n\n<p>Write a function that creates a dictionary from two lists: one for keys and one for values.</p>\n\n<p>```python\ndef create_dict(keys, values):\n    return dict(zip(keys, values))</p>\n\n<h1>\ud83d\udd39 Test</h1>\n\n<p>print(create_dict(['a', 'b', 'c'], [1, 2, 3]))  # Output: {'a': 1, 'b': 2, 'c': 3}"
        },
        {
            "cell_type": "code",
            "execution_count": null,
            "metadata": {},
            "outputs": [],
            "source": "\n<h3>\ud83d\udd39 2. Access Dictionary Elements</h3>\n\n<p>Write a function to access an element by key in a dictionary.</p>\n\n<p>```python\ndef access_element(d, key):\n    return d.get(key, None)</p>\n\n<h1>\ud83d\udd39 Test</h1>\n\n<p>print(access<em>element({'a': 1, 'b': 2}, 'a'))  # Output: 1\nprint(access</em>element({'a': 1, 'b': 2}, 'c'))  # Output: None"
        },
        {
            "cell_type": "markdown",
            "metadata": {},
            "source": "\n<h3>\ud83d\udd39 3. Add Element to Dictionary</h3>\n\n<p>Write a function to add a key-value pair to a dictionary.</p>\n\n<p>```python\ndef add_element(d, key, value):\n    d[key] = value\n    return d</p>\n\n<h1>\ud83d\udd39 Test</h1>\n\n<p>print(add_element({'a': 1, 'b': 2}, 'c', 3))  # Output: {'a': 1, 'b': 2, 'c': 3}"
        },
        {
            "cell_type": "code",
            "execution_count": null,
            "metadata": {},
            "outputs": [],
            "source": "\n<h3>\ud83d\udd39 4. Remove Element from Dictionary</h3>\n\n<p>Write a function to remove a key-value pair from a dictionary.</p>\n\n<p>```python\ndef remove_element(d, key):\n    d.pop(key, None)\n    return d</p>\n\n<h1>\ud83d\udd39 Test</h1>\n\n<p>print(remove_element({'a': 1, 'b': 2, 'c': 3}, 'b'))  # Output: {'a': 1, 'c': 3}"
        },
        {
            "cell_type": "markdown",
            "metadata": {},
            "source": "\n<h3>\ud83d\udd39 5. Check Key in Dictionary</h3>\n\n<p>Write a function to check if a key exists in a dictionary.</p>\n\n<p>```python\ndef check_key(d, key):\n    return key in d</p>\n\n<h1>\ud83d\udd39 Test</h1>\n\n<p>print(check<em>key({'a': 1, 'b': 2}, 'b'))  # Output: True\nprint(check</em>key({'a': 1, 'b': 2}, 'c'))  # Output: False"
        },
        {
            "cell_type": "code",
            "execution_count": null,
            "metadata": {},
            "outputs": [],
            "source": "\n<h2>\ud83d\udd39 Medium Assessments</h2>\n\n<h3>\ud83d\udd39 6. Iterate Over Dictionary</h3>\n\n<p>Write a function to iterate over a dictionary and print each key-value pair.</p>\n\n<p>```python\ndef iterate_dict(d):\n    for key, value in d.items():\n        print(key, value)</p>\n\n<h1>\ud83d\udd39 Test</h1>\n\n<p>iterate_dict({'a': 1, 'b': 2})  # Output: \"a 1\", \"b 2\""
        },
        {
            "cell_type": "markdown",
            "metadata": {},
            "source": "\n<h3>\ud83d\udd39 7. Merge Dictionaries</h3>\n\n<p>Write a function to merge two dictionaries.</p>\n\n<p>```python\ndef merge_dicts(d1, d2):\n    d1.update(d2)\n    return d1</p>\n\n<h1>\ud83d\udd39 Test</h1>\n\n<p>print(merge_dicts({'a': 1, 'b': 2}, {'c': 3, 'd': 4}))  # Output: {'a': 1, 'b': 2, 'c': 3, 'd': 4}"
        },
        {
            "cell_type": "code",
            "execution_count": null,
            "metadata": {},
            "outputs": [],
            "source": "\n<h3>\ud83d\udd39 8. Find Max Value in Dictionary</h3>\n\n<p>Write a function to find the key with the maximum value in a dictionary.</p>\n\n<p>```python\ndef max<em>value</em>key(d):\n    return max(d, key=d.get)</p>\n\n<h1>\ud83d\udd39 Test</h1>\n\n<p>print(max<em>value</em>key({'a': 1, 'b': 2, 'c': 3}))  # Output: 'c'"
        },
        {
            "cell_type": "markdown",
            "metadata": {},
            "source": "\n<h3>\ud83d\udd39 9. Find Min Value in Dictionary</h3>\n\n<p>Write a function to find the key with the minimum value in a dictionary.</p>\n\n<p>```python\ndef min<em>value</em>key(d):\n    return min(d, key=d.get)</p>\n\n<h1>\ud83d\udd39 Test</h1>\n\n<p>print(min<em>value</em>key({'a': 1, 'b': 2, 'c': 3}))  # Output: 'a'"
        },
        {
            "cell_type": "code",
            "execution_count": null,
            "metadata": {},
            "outputs": [],
            "source": "\n<h3>\ud83d\udd39 10. Dictionary Comprehension</h3>\n\n<p>Write a function to create a dictionary using comprehension.</p>\n\n<p>```python\ndef dict_comprehension(lst):\n    return {x: x**2 for x in lst}</p>\n\n<h1>\ud83d\udd39 Test</h1>\n\n<p>print(dict_comprehension([1, 2, 3]))  # Output: {1: 1, 2: 4, 3: 9}"
        },
        {
            "cell_type": "markdown",
            "metadata": {},
            "source": "\n<h2>\ud83d\udd39 Hard Assessments</h2>\n\n<h3>\ud83d\udd39 11. Invert Dictionary</h3>\n\n<p>Write a function to invert a dictionary (keys become values and values become keys).</p>\n\n<p>```python\ndef invert_dict(d):\n    return {value: key for key, value in d.items()}</p>\n\n<h1>\ud83d\udd39 Test</h1>\n\n<p>print(invert_dict({'a': 1, 'b': 2, 'c': 3}))  # Output: {1: 'a', 2: 'b', 3: 'c'}"
        },
        {
            "cell_type": "code",
            "execution_count": null,
            "metadata": {},
            "outputs": [],
            "source": "\n<h3>\ud83d\udd39 12. Find Common Keys</h3>\n\n<p>Write a function to find common keys between two dictionaries.</p>\n\n<p>```python\ndef common_keys(d1, d2):\n    return set(d1.keys()) &amp; set(d2.keys())</p>\n\n<h1>\ud83d\udd39 Test</h1>\n\n<p>print(common_keys({'a': 1, 'b': 2}, {'b': 3, 'c': 4}))  # Output: {'b'}"
        },
        {
            "cell_type": "markdown",
            "metadata": {},
            "source": "\n<h3>\ud83d\udd39 13. Group by Key Prefix</h3>\n\n<p>Write a function to group dictionary keys by their prefix.</p>\n\n<p>```python\nfrom collections import defaultdict</p>\n\n<p>def group<em>by</em>prefix(d):\n    grouped<em>dict = defaultdict(list)\n    for key in d:\n        prefix = key[0]\n        grouped</em>dict[prefix].append((key, d[key]))\n    return dict(grouped_dict)</p>\n\n<h1>\ud83d\udd39 Test</h1>\n\n<p>print(group<em>by</em>prefix({'apple': 1, 'banana': 2, 'apricot': 3}))  </p>\n\n<h1>\ud83d\udd39 Output: {'a': [('apple', 1), ('apricot', 3)], 'b': [('banana', 2)]}</h1>\n\n<p>```</p>\n\n<h3>\ud83d\udd39 14. Filter Dictionary by Value</h3>\n\n<p>Write a function to filter dictionary items by value, keeping only those with values greater than a given threshold.</p>\n\n<p>```python\ndef filter<em>by</em>value(d, threshold):\n    return {key: value for key, value in d.items() if value &gt; threshold}</p>\n\n<h1>\ud83d\udd39 Test</h1>\n\n<p>print(filter<em>by</em>value({'a': 1, 'b': 2, 'c': 3}, 1))  # Output: {'b': 2, 'c': 3}"
        },
        {
            "cell_type": "code",
            "execution_count": null,
            "metadata": {},
            "outputs": [],
            "source": "\n<h3>\ud83d\udd39 15. Sum of Dictionary Values</h3>\n\n<p>Write a function to calculate the sum of all values in a dictionary.</p>\n\n<p>```python\ndef sum_values(d):\n    return sum(d.values())</p>\n\n<h1>\ud83d\udd39 Test</h1>\n\n<p>print(sum_values({'a': 1, 'b': 2, 'c': 3}))  # Output: 6"
        },
        {
            "cell_type": "markdown",
            "metadata": {},
            "source": "\n<h3>\ud83d\udd39 16. Nested Dictionary Comprehension</h3>\n\n<p>Write a function to create a nested dictionary using comprehension.</p>\n\n<p>```python\ndef nested<em>dict</em>comprehension(lst):\n    return {x: {y: y**2 for y in range(x)} for x in lst}</p>\n\n<h1>\ud83d\udd39 Test</h1>\n\n<p>print(nested<em>dict</em>comprehension([1, 2, 3]))  </p>\n\n<h1>\ud83d\udd39 Output: {1: {0: 0}, 2: {0: 0, 1: 1}, 3: {0: 0, 1: 1, 2: 4}}</h1>\n\n<p>```</p>\n\n<h3>\ud83d\udd39 17. Most Frequent Value</h3>\n\n<p>Write a function to find the most frequent value in a dictionary.</p>\n\n<p>```python\nfrom collections import Counter</p>\n\n<p>def most<em>frequent</em>value(d):\n    return Counter(d.values()).most_common(1)[0][0]</p>\n\n<h1>\ud83d\udd39 Test</h1>\n\n<p>print(most<em>frequent</em>value({'a': 1, 'b': 2, 'c': 2}))  # Output: 2"
        },
        {
            "cell_type": "code",
            "execution_count": null,
            "metadata": {},
            "outputs": [],
            "source": "\n<h3>\ud83d\udd39 18. Merge Dictionaries with Sum</h3>\n\n<p>Write a function to merge two dictionaries, summing values of common keys.</p>\n\n<p>```python\ndef merge<em>with</em>sum(d1, d2):\n    result = Counter(d1) + Counter(d2)\n    return dict(result)</p>\n\n<h1>\ud83d\udd39 Test</h1>\n\n<p>print(merge<em>with</em>sum({'a': 1, 'b': 2}, {'b': 3, 'c': 4}))  # Output: {'a': 1, 'b': 5, 'c': 4}"
        },
        {
            "cell_type": "markdown",
            "metadata": {},
            "source": "\n<h3>\ud83d\udd39 19. Convert List of Tuples to Dictionary</h3>\n\n<p>Write a function to convert a list of tuples into a dictionary.</p>\n\n<p>```python\ndef tuples<em>to</em>dict(lst):\n    return dict(lst)</p>\n\n<h1>\ud83d\udd39 Test</h1>\n\n<p>print(tuples<em>to</em>dict([('a', 1), ('b', 2), ('c', 3)]))  # Output: {'a': 1, 'b': 2, 'c': 3}"
        },
        {
            "cell_type": "markdown",
            "metadata": {},
            "source": "\n<h3>\ud83d\udd39 \ud83d\udce2 Stay Updated</h3>\n\n<p>Be sure to \u2b50 this repository to stay updated with new examples and enhancements!</p>\n\n<h3>\ud83d\udd39 \ud83d\udcc4 License</h3>\n\n<p>\ud83d\udd10 This project is protected under the <a href=\"https://mit-license.org/\">MIT License</a>.</p>\n\n<h3>\ud83d\udd39 Contact \ud83d\udce7</h3>\n\n<p>Panagiotis Moschos - pan.moschos86@gmail.com</p>\n\n<p>\ud83d\udd17 <em>Note: This is a Python script and requires a Python interpreter to run.</em></p>\n\n<hr />\n\n<h1 align=center>Happy Coding \ud83d\udc68\u200d\ud83d\udcbb </h1>\n\n<p align=\"center\">\n  Made with \u2764\ufe0f by Panagiotis Moschos (https://github.com/pmoschos)\n</p>"
        }
    ],
    "metadata": {},
    "nbformat": 4,
    "nbformat_minor": 5
}