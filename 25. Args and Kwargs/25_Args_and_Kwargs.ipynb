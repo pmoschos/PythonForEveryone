{
    "cells": [
        {
            "cell_type": "markdown",
            "metadata": {},
            "source": "\n# Understanding `*args` and `**kwargs` in Python in Python \ud83d\udc0d\n\nIn Python, `*args` and `**kwargs` are used to pass a variable number of arguments to a function. They allow flexibility in function calls, making functions more adaptable to different scenarios.\n\n### What are `*args`?\n\n- `*args` allows you to pass a variable number of non-keyword arguments to a function.\n- `args` is just a name; you can use any name prefixed with a `*`. `*args` is the conventional name.\n\n### How `*args` works\n\nWhen you prefix a parameter with `*`, it collects all the positional arguments passed to the function into a tuple.\n\n#### Example:\n"
        },
        {
            "cell_type": "code",
            "execution_count": null,
            "metadata": {},
            "outputs": [],
            "source": "def greet(*args):\n    for name in args:\n        print(f\"Hello, {name}!\")\n\ngreet(\"Alice\", \"Bob\", \"Charlie\")"
        },
        {
            "cell_type": "markdown",
            "metadata": {},
            "source": "\nOutput:"
        },
        {
            "cell_type": "code",
            "execution_count": null,
            "metadata": {},
            "outputs": [],
            "source": "Hello, Alice!\nHello, Bob!\nHello, Charlie!"
        },
        {
            "cell_type": "markdown",
            "metadata": {},
            "source": "\nIn the above example:\n- The `greet` function accepts a variable number of arguments.\n- Each argument is collected into the `args` tuple.\n- The function then iterates over `args` and prints a greeting for each name.\n\n### What are `**kwargs`?\n\n- `**kwargs` allows you to pass a variable number of keyword arguments to a function.\n- `kwargs` is just a name; you can use any name prefixed with `**`. `**kwargs` is the conventional name.\n\n### How `**kwargs` works\n\nWhen you prefix a parameter with `**`, it collects all the keyword arguments passed to the function into a dictionary.\n\n#### Example:\n"
        },
        {
            "cell_type": "code",
            "execution_count": null,
            "metadata": {},
            "outputs": [],
            "source": "def display_info(**kwargs):\n    for key, value in kwargs.items():\n        print(f\"{key}: {value}\")\n\ndisplay_info(name=\"Alice\", age=30, city=\"New York\")"
        },
        {
            "cell_type": "markdown",
            "metadata": {},
            "source": "\nOutput:"
        },
        {
            "cell_type": "code",
            "execution_count": null,
            "metadata": {},
            "outputs": [],
            "source": "name: Alice\nage: 30\ncity: New York"
        },
        {
            "cell_type": "markdown",
            "metadata": {},
            "source": "\nIn the above example:\n- The `display_info` function accepts a variable number of keyword arguments.\n- Each keyword argument is collected into the `kwargs` dictionary.\n- The function then iterates over `kwargs` and prints the key-value pairs.\n\n### Using `*args` and `**kwargs` together\n\nYou can use `*args` and `**kwargs` in the same function. When doing so, `*args` must appear before `**kwargs` in the function definition.\n\n#### Example:\n"
        },
        {
            "cell_type": "code",
            "execution_count": null,
            "metadata": {},
            "outputs": [],
            "source": "def display_all(*args, **kwargs):\n    for arg in args:\n        print(arg)\n    for key, value in kwargs.items():\n        print(f\"{key}: {value}\")\n\ndisplay_all(\"Alice\", \"Bob\", name=\"Charlie\", age=25)"
        },
        {
            "cell_type": "markdown",
            "metadata": {},
            "source": "\nOutput:"
        },
        {
            "cell_type": "code",
            "execution_count": null,
            "metadata": {},
            "outputs": [],
            "source": "Alice\nBob\nname: Charlie\nage: 25"
        },
        {
            "cell_type": "markdown",
            "metadata": {},
            "source": "\n### Practical Examples\n\n#### Example 1: Function with `*args`\n"
        },
        {
            "cell_type": "code",
            "execution_count": null,
            "metadata": {},
            "outputs": [],
            "source": "def sum_all(*args):\n    return sum(args)\n\nprint(sum_all(1, 2, 3, 4))  # Output: 10"
        },
        {
            "cell_type": "markdown",
            "metadata": {},
            "source": "\nIn this example, the `sum_all` function sums up all the positional arguments passed to it.\n\n#### Example 2: Function with `**kwargs`\n"
        },
        {
            "cell_type": "code",
            "execution_count": null,
            "metadata": {},
            "outputs": [],
            "source": "def build_profile(**kwargs):\n    return kwargs\n\nuser_profile = build_profile(name=\"Alice\", age=30, job=\"Engineer\")\nprint(user_profile)  # Output: {'name': 'Alice', 'age': 30, 'job': 'Engineer'}"
        },
        {
            "cell_type": "markdown",
            "metadata": {},
            "source": "\nIn this example, the `build_profile` function collects all keyword arguments into a dictionary and returns it.\n\n#### Example 3: Function with both `*args` and `**kwargs`\n"
        },
        {
            "cell_type": "code",
            "execution_count": null,
            "metadata": {},
            "outputs": [],
            "source": "def introduce(*args, **kwargs):\n    for name in args:\n        print(f\"Hello, {name}!\")\n    for key, value in kwargs.items():\n        print(f\"{key}: {value}\")\n\nintroduce(\"Alice\", \"Bob\", age=25, city=\"New York\")"
        },
        {
            "cell_type": "markdown",
            "metadata": {},
            "source": "\nOutput:"
        },
        {
            "cell_type": "code",
            "execution_count": null,
            "metadata": {},
            "outputs": [],
            "source": "Hello, Alice!\nHello, Bob!\nage: 25\ncity: New York"
        },
        {
            "cell_type": "markdown",
            "metadata": {},
            "source": "\n### Unpacking `*args` and `**kwargs`\n\nYou can also use `*args` and `**kwargs` to unpack arguments when calling a function.\n\n#### Example:\n"
        },
        {
            "cell_type": "code",
            "execution_count": null,
            "metadata": {},
            "outputs": [],
            "source": "def multiply(a, b, c):\n    return a * b * c\n\nargs = (2, 3, 4)\nprint(multiply(*args))  # Output: 24\n\ndef greet(name, age, city):\n    print(f\"Hello, my name is {name}, I'm {age} years old and I live in {city}.\")\n\nkwargs = {\"name\": \"Alice\", \"age\": 30, \"city\": \"New York\"}\ngreet(**kwargs)"
        },
        {
            "cell_type": "markdown",
            "metadata": {},
            "source": "\nOutput:"
        },
        {
            "cell_type": "code",
            "execution_count": null,
            "metadata": {},
            "outputs": [],
            "source": "24\nHello, my name is Alice, I'm 30 years old and I live in New York."
        },
        {
            "cell_type": "markdown",
            "metadata": {},
            "source": "\nIn these examples:\n- `*args` unpacks the tuple into positional arguments.\n- `**kwargs` unpacks the dictionary into keyword arguments.\n\n### Conclusion\n\n- `*args` and `**kwargs` provide a flexible way to handle a variable number of arguments in functions.\n- `*args` is used for non-keyword variable arguments and collects them into a tuple.\n- `**kwargs` is used for keyword variable arguments and collects them into a dictionary.\n- You can use both in the same function, with `*args` appearing before `**kwargs`.\n- They can also be used for unpacking arguments when calling functions.\n\nUnderstanding `*args` and `**kwargs` is essential for writing flexible and reusable code in Python. They are particularly useful in scenarios where you need to pass a varying number of arguments to functions, such as in utility functions, decorators, and more.\n\n\n### \ud83d\udce2 Stay Updated\n\nBe sure to \u2b50 this repository to stay updated with new examples and enhancements!\n\n### \ud83d\udcc4 License\n\ud83d\udd10 This project is protected under the [MIT License](https://mit-license.org/).\n\n### Contact \ud83d\udce7\nPanagiotis Moschos - pan.moschos86@gmail.com\n\n\ud83d\udd17 *Note: This is a Python script and requires a Python interpreter to run.*\n\n---\n<h1 align=center>Happy Coding \ud83d\udc68\u200d\ud83d\udcbb </h1>\n\n<p align=\"center\">\n  Made with \u2764\ufe0f by Panagiotis Moschos (https://github.com/pmoschos)\n</p>"
        }
    ],
    "metadata": {},
    "nbformat": 4,
    "nbformat_minor": 5
}