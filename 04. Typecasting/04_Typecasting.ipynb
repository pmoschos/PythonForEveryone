{
    "cells": [
        {
            "cell_type": "markdown",
            "metadata": {},
            "source": "\n# Type Casting in Python \ud83d\udc0d\n\nType casting, also known as type conversion, is the process of converting one data type to another. Python provides several built-in functions for type casting.\n\n## Implicit Type Casting\n\nPython automatically converts one data type to another without any user involvement. This type of conversion is called implicit type casting.\n"
        },
        {
            "cell_type": "code",
            "execution_count": null,
            "metadata": {},
            "outputs": [],
            "source": "# Implicit type casting\nx = 10\ny = 3.14\nresult = x + y  # x is automatically converted to float\nprint(result)   # Output: 13.14"
        },
        {
            "cell_type": "markdown",
            "metadata": {},
            "source": "\n## Explicit Type Casting\n\nExplicit type casting is when the programmer manually converts one data type to another using built-in functions.\n\n### 1. \ud83d\udd22 **int()**\nConverts a value to an integer.\n"
        },
        {
            "cell_type": "code",
            "execution_count": null,
            "metadata": {},
            "outputs": [],
            "source": "# Convert float to int\nflt = 3.14\nnum = int(flt)  # Output: 3\n\n# Convert string to int\ns = \"123\"\nnum = int(s)    # Output: 123"
        },
        {
            "cell_type": "markdown",
            "metadata": {},
            "source": "\n### 2. \ud83d\udca7 **float()**\nConverts a value to a floating-point number.\n"
        },
        {
            "cell_type": "code",
            "execution_count": null,
            "metadata": {},
            "outputs": [],
            "source": "# Convert int to float\nnum = 10\nflt = float(num)  # Output: 10.0\n\n# Convert string to float\ns = \"123.45\"\nflt = float(s)    # Output: 123.45"
        },
        {
            "cell_type": "markdown",
            "metadata": {},
            "source": "\n### 3. \ud83d\udcdc **str()**\nConverts a value to a string.\n"
        },
        {
            "cell_type": "code",
            "execution_count": null,
            "metadata": {},
            "outputs": [],
            "source": "# Convert int to string\nnum = 10\ns = str(num)  # Output: \"10\"\n\n# Convert float to string\nflt = 3.14\ns = str(flt)  # Output: \"3.14\""
        },
        {
            "cell_type": "markdown",
            "metadata": {},
            "source": "\n### 4. \ud83d\udccb **list()**\nConverts a value to a list.\n"
        },
        {
            "cell_type": "code",
            "execution_count": null,
            "metadata": {},
            "outputs": [],
            "source": "# Convert string to list\ns = \"Hello\"\nlst = list(s)  # Output: ['H', 'e', 'l', 'l', 'o']\n\n# Convert tuple to list\nt = (1, 2, 3)\nlst = list(t)  # Output: [1, 2, 3]"
        },
        {
            "cell_type": "markdown",
            "metadata": {},
            "source": "\n### 5. \ud83d\udd17 **tuple()**\nConverts a value to a tuple.\n"
        },
        {
            "cell_type": "code",
            "execution_count": null,
            "metadata": {},
            "outputs": [],
            "source": "# Convert list to tuple\nlst = [1, 2, 3]\nt = tuple(lst)  # Output: (1, 2, 3)\n\n# Convert string to tuple\ns = \"Hello\"\nt = tuple(s)  # Output: ('H', 'e', 'l', 'l', 'o')"
        },
        {
            "cell_type": "markdown",
            "metadata": {},
            "source": "\n### 6. \ud83d\udd04 **set()**\nConverts a value to a set.\n"
        },
        {
            "cell_type": "code",
            "execution_count": null,
            "metadata": {},
            "outputs": [],
            "source": "# Convert list to set\nlst = [1, 2, 3, 1, 2]\ns = set(lst)  # Output: {1, 2, 3}\n\n# Convert tuple to set\nt = (1, 2, 3, 1, 2)\ns = set(t)  # Output: {1, 2, 3}"
        },
        {
            "cell_type": "markdown",
            "metadata": {},
            "source": "\n### 7. \ud83d\udcd1 **dict()**\nConverts a sequence of key-value pairs to a dictionary.\n"
        },
        {
            "cell_type": "code",
            "execution_count": null,
            "metadata": {},
            "outputs": [],
            "source": "# Convert list of tuples to dictionary\nlst = [('a', 1), ('b', 2)]\nd = dict(lst)  # Output: {'a': 1, 'b': 2}\n\n# Convert tuple of tuples to dictionary\nt = (('a', 1), ('b', 2))\nd = dict(t)  # Output: {'a': 1, 'b': 2}"
        },
        {
            "cell_type": "markdown",
            "metadata": {},
            "source": "\n## Type Casting Examples\n\nHere are some examples of type casting in Python:\n"
        },
        {
            "cell_type": "code",
            "execution_count": null,
            "metadata": {},
            "outputs": [],
            "source": "# Example 1: Convert string to integer\ns = \"100\"\nnum = int(s)\nprint(num)  # Output: 100\n\n# Example 2: Convert integer to float\nnum = 50\nflt = float(num)\nprint(flt)  # Output: 50.0\n\n# Example 3: Convert list to set\nlst = [1, 2, 3, 1, 2]\ns = set(lst)\nprint(s)  # Output: {1, 2, 3}"
        },
        {
            "cell_type": "markdown",
            "metadata": {},
            "source": "\n### \ud83d\udce2 Stay Updated\n\nBe sure to \u2b50 this repository to stay updated with new examples and enhancements!\n\n### \ud83d\udcc4 License\n\ud83d\udd10 This project is protected under the [MIT License](https://mit-license.org/).\n\n### Contact \ud83d\udce7\nPanagiotis Moschos - pan.moschos86@gmail.com\n\n\ud83d\udd17 *Note: This is a Python script and requires a Python interpreter to run.*\n\n---\n\n<h1 align=center>Happy Coding \ud83d\udc68\u200d\ud83d\udcbb </h1>\n\n<p align=\"center\">\n  Made with \u2764\ufe0f by Panagiotis Moschos (https://github.com/pmoschos)\n</p>"
        }
    ],
    "metadata": {},
    "nbformat": 4,
    "nbformat_minor": 5
}