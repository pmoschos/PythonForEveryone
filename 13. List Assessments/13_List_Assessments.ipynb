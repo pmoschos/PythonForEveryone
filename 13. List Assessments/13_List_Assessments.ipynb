{
    "cells": [
        {
            "cell_type": "markdown",
            "metadata": {},
            "source": "\n# 13 List Assessments in Python \ud83d\udc0d\n\nThis document provides 13 list assessments in Python, ranging from easy to hard, including their solutions and expected results.\n\n## Easy Assessments\n\n### 1. \u2795 Sum of List Elements\nWrite a function that calculates the sum of all elements in a list.\n"
        },
        {
            "cell_type": "code",
            "execution_count": null,
            "metadata": {},
            "outputs": [],
            "source": "def sum_list(lst):\n    return sum(lst)\n\n# Test\nprint(sum_list([1, 2, 3, 4, 5]))  # Output: 15"
        },
        {
            "cell_type": "markdown",
            "metadata": {},
            "source": "\n### 2. \ud83d\udd0d Find Maximum Element\nWrite a function to find the maximum element in a list.\n"
        },
        {
            "cell_type": "code",
            "execution_count": null,
            "metadata": {},
            "outputs": [],
            "source": "def max_element(lst):\n    return max(lst)\n\n# Test\nprint(max_element([1, 2, 3, 4, 5]))  # Output: 5"
        },
        {
            "cell_type": "markdown",
            "metadata": {},
            "source": "\n### 3. \ud83d\udd0d Find Minimum Element\nWrite a function to find the minimum element in a list.\n"
        },
        {
            "cell_type": "code",
            "execution_count": null,
            "metadata": {},
            "outputs": [],
            "source": "def min_element(lst):\n    return min(lst)\n\n# Test\nprint(min_element([1, 2, 3, 4, 5]))  # Output: 1"
        },
        {
            "cell_type": "markdown",
            "metadata": {},
            "source": "\n### 4. \ud83e\uddee Average of List Elements\nWrite a function to calculate the average of all elements in a list.\n"
        },
        {
            "cell_type": "code",
            "execution_count": null,
            "metadata": {},
            "outputs": [],
            "source": "def average_list(lst):\n    return sum(lst) / len(lst)\n\n# Test\nprint(average_list([1, 2, 3, 4, 5]))  # Output: 3.0"
        },
        {
            "cell_type": "markdown",
            "metadata": {},
            "source": "\n### 5. \u274c Remove Duplicates\nWrite a function to remove duplicate elements from a list.\n"
        },
        {
            "cell_type": "code",
            "execution_count": null,
            "metadata": {},
            "outputs": [],
            "source": "def remove_duplicates(lst):\n    return list(set(lst))\n\n# Test\nprint(remove_duplicates([1, 2, 2, 3, 4, 4, 5]))  # Output: [1, 2, 3, 4, 5]"
        },
        {
            "cell_type": "markdown",
            "metadata": {},
            "source": "\n## Medium Assessments\n\n### 6. \ud83d\udd04 Find Common Elements\nWrite a function to find common elements between two lists.\n"
        },
        {
            "cell_type": "code",
            "execution_count": null,
            "metadata": {},
            "outputs": [],
            "source": "def common_elements(lst1, lst2):\n    return list(set(lst1) & set(lst2))\n\n# Test\nprint(common_elements([1, 2, 3], [2, 3, 4]))  # Output: [2, 3]"
        },
        {
            "cell_type": "markdown",
            "metadata": {},
            "source": "\n### 7. \ud83d\udd04 Merge and Sort Lists\nWrite a function to merge two lists and sort the result.\n"
        },
        {
            "cell_type": "code",
            "execution_count": null,
            "metadata": {},
            "outputs": [],
            "source": "def merge_and_sort(lst1, lst2):\n    return sorted(lst1 + lst2)\n\n# Test\nprint(merge_and_sort([3, 1, 2], [6, 5, 4]))  # Output: [1, 2, 3, 4, 5, 6]"
        },
        {
            "cell_type": "markdown",
            "metadata": {},
            "source": "\n### 8. \ud83e\udd48 Second Largest Element\nWrite a function to find the second largest element in a list.\n"
        },
        {
            "cell_type": "code",
            "execution_count": null,
            "metadata": {},
            "outputs": [],
            "source": "def second_largest(lst):\n    lst = list(set(lst))\n    lst.sort()\n    return lst[-2]\n\n# Test\nprint(second_largest([1, 2, 3, 4, 5]))  # Output: 4"
        },
        {
            "cell_type": "markdown",
            "metadata": {},
            "source": "\n### 9. \ud83d\udd04 Rotate List\nWrite a function to rotate a list by a given number of positions.\n"
        },
        {
            "cell_type": "code",
            "execution_count": null,
            "metadata": {},
            "outputs": [],
            "source": "def rotate_list(lst, positions):\n    return lst[positions:] + lst[:positions]\n\n# Test\nprint(rotate_list([1, 2, 3, 4, 5], 2))  # Output: [3, 4, 5, 1, 2]"
        },
        {
            "cell_type": "markdown",
            "metadata": {},
            "source": "\n### 10. \ud83d\udcc3 Flatten a Nested List\nWrite a function to flatten a nested list.\n"
        },
        {
            "cell_type": "code",
            "execution_count": null,
            "metadata": {},
            "outputs": [],
            "source": "def flatten_list(nested_lst):\n    flat_list = []\n    for sublist in nested_lst:\n        for item in sublist:\n            flat_list.append(item)\n    return flat_list\n\n# Test\nprint(flatten_list([[1, 2, 3], [4, 5], [6]]))  # Output: [1, 2, 3, 4, 5, 6]"
        },
        {
            "cell_type": "markdown",
            "metadata": {},
            "source": "\n## Hard Assessments\n\n### 11. \ud83d\udd0d Find Duplicates\nWrite a function to find all duplicate elements in a list.\n"
        },
        {
            "cell_type": "code",
            "execution_count": null,
            "metadata": {},
            "outputs": [],
            "source": "def find_duplicates(lst):\n    return [item for item in set(lst) if lst.count(item) > 1]\n\n# Test\nprint(find_duplicates([1, 2, 2, 3, 3, 3, 4]))  # Output: [2, 3]"
        },
        {
            "cell_type": "markdown",
            "metadata": {},
            "source": "\n### 12. \ud83d\udcca Group by Frequency\nWrite a function to group elements by their frequency.\n"
        },
        {
            "cell_type": "code",
            "execution_count": null,
            "metadata": {},
            "outputs": [],
            "source": "from collections import defaultdict\n\ndef group_by_frequency(lst):\n    freq_dict = defaultdict(list)\n    for item in lst:\n        freq_dict[lst.count(item)].append(item)\n    return dict(freq_dict)\n\n# Test\nprint(group_by_frequency([1, 2, 2, 3, 3, 3, 4]))  # Output: {1: [1, 4], 2: [2, 2], 3: [3, 3, 3]}"
        },
        {
            "cell_type": "markdown",
            "metadata": {},
            "source": "\n### 13. \ud83d\udcc8 Sublist with Maximum Sum\nWrite a function to find the contiguous sublist with the maximum sum in a list.\n"
        },
        {
            "cell_type": "code",
            "execution_count": null,
            "metadata": {},
            "outputs": [],
            "source": "def max_sublist_sum(lst):\n    max_sum = current_sum = lst[0]\n    for num in lst[1:]:\n        current_sum = max(num, current_sum + num)\n        max_sum = max(max_sum, current_sum)\n    return max_sum\n\n# Test\nprint(max_sublist_sum([1, -2, 3, 4, -1, 2, 1, -5, 4]))  # Output: 9"
        },
        {
            "cell_type": "markdown",
            "metadata": {},
            "source": "\n### \ud83d\udce2 Stay Updated\n\nBe sure to \u2b50 this repository to stay updated with new examples and enhancements!\n\n### \ud83d\udcc4 License\n\ud83d\udd10 This project is protected under the [MIT License](https://mit-license.org/).\n\n### Contact \ud83d\udce7\nPanagiotis Moschos - pan.moschos86@gmail.com\n\n\ud83d\udd17 *Note: This is a Python script and requires a Python interpreter to run.*\n\n---\n\n<h1 align=center>Happy Coding \ud83d\udc68\u200d\ud83d\udcbb </h1>\n\n<p align=\"center\">\n  Made with \u2764\ufe0f by Panagiotis Moschos (https://github.com/pmoschos)\n</p>"
        }
    ],
    "metadata": {},
    "nbformat": 4,
    "nbformat_minor": 5
}