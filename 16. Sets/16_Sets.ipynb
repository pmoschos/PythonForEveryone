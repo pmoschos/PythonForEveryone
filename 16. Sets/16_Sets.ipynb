{
    "cells": [
        {
            "cell_type": "markdown",
            "metadata": {},
            "source": "\n# Sets in Python \ud83d\udc0d\n\nSets are an unordered collection of unique elements. They are mutable and do not allow duplicate values.\n\n## Why Use Sets? \ud83e\udd14\n\n- **Uniqueness**: Sets automatically handle duplicates, making them useful for storing unique items.\n- **Efficient Membership Testing**: Sets are optimized for checking whether an item is part of the set.\n- **Set Operations**: Sets support mathematical set operations like union, intersection, difference, and symmetric difference.\n\n## \ud83d\udd24 Creating Sets\n\nYou can create a set by enclosing items in curly braces `{}` or using the `set()` function.\n"
        },
        {
            "cell_type": "code",
            "execution_count": null,
            "metadata": {},
            "outputs": [],
            "source": "# Empty set\nempty_set = set()\n\n# Set of integers\nint_set = {1, 2, 3, 4, 5}\n\n# Set of strings\nstr_set = {\"apple\", \"banana\", \"cherry\"}\n\n# Mixed type set\nmixed_set = {1, \"hello\", 3.14, True}\n\nprint(empty_set)\nprint(int_set)\nprint(str_set)\nprint(mixed_set)"
        },
        {
            "cell_type": "markdown",
            "metadata": {},
            "source": "\n## \u2795 Adding and \u2796 Removing Elements\n\nYou can add and remove elements from a set using the `add()`, `remove()`, `discard()`, and `pop()` methods.\n"
        },
        {
            "cell_type": "code",
            "execution_count": null,
            "metadata": {},
            "outputs": [],
            "source": "fruits = {\"apple\", \"banana\"}\n\n# Add an element\nfruits.add(\"cherry\")\nprint(fruits)  # Output: {'apple', 'banana', 'cherry'}\n\n# Remove an element\nfruits.remove(\"banana\")\nprint(fruits)  # Output: {'apple', 'cherry'}\n\n# Discard an element (does not raise an error if element is not found)\nfruits.discard(\"banana\")\nprint(fruits)  # Output: {'apple', 'cherry'}\n\n# Pop an element (removes and returns an arbitrary element)\npopped_fruit = fruits.pop()\nprint(popped_fruit)  # Output: apple or cherry (depends on internal order)\nprint(fruits)  # Output: {'cherry'} or {'apple'}"
        },
        {
            "cell_type": "markdown",
            "metadata": {},
            "source": "\n## \ud83d\udd04 Set Operations\n\n### Union\n\nCombines elements from both sets.\n"
        },
        {
            "cell_type": "code",
            "execution_count": null,
            "metadata": {},
            "outputs": [],
            "source": "set1 = {1, 2, 3}\nset2 = {3, 4, 5}\nunion_set = set1.union(set2)\nprint(union_set)  # Output: {1, 2, 3, 4, 5}"
        },
        {
            "cell_type": "markdown",
            "metadata": {},
            "source": "\n### Intersection\n\nReturns elements common to both sets.\n"
        },
        {
            "cell_type": "code",
            "execution_count": null,
            "metadata": {},
            "outputs": [],
            "source": "set1 = {1, 2, 3}\nset2 = {3, 4, 5}\nintersection_set = set1.intersection(set2)\nprint(intersection_set)  # Output: {3}"
        },
        {
            "cell_type": "markdown",
            "metadata": {},
            "source": "\n### Difference\n\nReturns elements in the first set but not in the second.\n"
        },
        {
            "cell_type": "code",
            "execution_count": null,
            "metadata": {},
            "outputs": [],
            "source": "set1 = {1, 2, 3}\nset2 = {3, 4, 5}\ndifference_set = set1.difference(set2)\nprint(difference_set)  # Output: {1, 2}"
        },
        {
            "cell_type": "markdown",
            "metadata": {},
            "source": "\n### Symmetric Difference\n\nReturns elements in either set, but not in both.\n"
        },
        {
            "cell_type": "code",
            "execution_count": null,
            "metadata": {},
            "outputs": [],
            "source": "set1 = {1, 2, 3}\nset2 = {3, 4, 5}\nsymmetric_difference_set = set1.symmetric_difference(set2)\nprint(symmetric_difference_set)  # Output: {1, 2, 4, 5}"
        },
        {
            "cell_type": "markdown",
            "metadata": {},
            "source": "\n## \ud83d\udcd1 Common Set Methods\n\n### issubset()\n\nChecks if a set is a subset of another set.\n"
        },
        {
            "cell_type": "code",
            "execution_count": null,
            "metadata": {},
            "outputs": [],
            "source": "set1 = {1, 2}\nset2 = {1, 2, 3, 4}\nprint(set1.issubset(set2))  # Output: True"
        },
        {
            "cell_type": "markdown",
            "metadata": {},
            "source": "\n### issuperset()\n\nChecks if a set is a superset of another set.\n"
        },
        {
            "cell_type": "code",
            "execution_count": null,
            "metadata": {},
            "outputs": [],
            "source": "set1 = {1, 2, 3, 4}\nset2 = {1, 2}\nprint(set1.issuperset(set2))  # Output: True"
        },
        {
            "cell_type": "markdown",
            "metadata": {},
            "source": "\n### isdisjoint()\n\nChecks if two sets have no elements in common.\n"
        },
        {
            "cell_type": "code",
            "execution_count": null,
            "metadata": {},
            "outputs": [],
            "source": "set1 = {1, 2, 3}\nset2 = {4, 5, 6}\nprint(set1.isdisjoint(set2))  # Output: True"
        },
        {
            "cell_type": "markdown",
            "metadata": {},
            "source": "\n## \ud83d\udcdc Conclusion\n\nSets are a powerful data type for storing unique elements and performing mathematical set operations. They are useful for tasks that involve membership testing, removing duplicates, and working with multiple sets.\n\n### \ud83d\udce2 Stay Updated\n\nBe sure to \u2b50 this repository to stay updated with new examples and enhancements!\n\n### \ud83d\udcc4 License\n\ud83d\udd10 This project is protected under the [MIT License](https://mit-license.org/).\n\n### Contact \ud83d\udce7\nPanagiotis Moschos - pan.moschos86@gmail.com\n\n\ud83d\udd17 *Note: This is a Python script and requires a Python interpreter to run.*\n\n---\n\n<h1 align=center>Happy Coding \ud83d\udc68\u200d\ud83d\udcbb </h1>\n\n<p align=\"center\">\n  Made with \u2764\ufe0f by Panagiotis Moschos (https://github.com/pmoschos)\n</p>"
        }
    ],
    "metadata": {},
    "nbformat": 4,
    "nbformat_minor": 5
}