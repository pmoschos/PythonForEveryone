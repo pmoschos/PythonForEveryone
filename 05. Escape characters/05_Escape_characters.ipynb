{
    "cells": [
        {
            "cell_type": "markdown",
            "metadata": {},
            "source": "\n# Escape Characters in Python \ud83d\udc0d\n\nEscape characters are used in strings to insert characters that are illegal in a string. For example, to include double quotes inside a string, you can use the escape character `\\`.\n\n## Common Escape Characters\n\n### 1. \u23ce **Newline (`\\n`)**\nInserts a new line in the text at the specified point.\n"
        },
        {
            "cell_type": "code",
            "execution_count": null,
            "metadata": {},
            "outputs": [],
            "source": "text = \"Hello,\\nWorld!\"\nprint(text)\n# Output:\n# Hello,\n# World!"
        },
        {
            "cell_type": "markdown",
            "metadata": {},
            "source": "\n### 2. \ud83d\udd19 **Backslash (`\\\\`)**\nInserts a backslash character in the text.\n"
        },
        {
            "cell_type": "code",
            "execution_count": null,
            "metadata": {},
            "outputs": [],
            "source": "text = \"This is a backslash: \\\\\"\nprint(text)\n# Output: This is a backslash: \\\\"
        },
        {
            "cell_type": "markdown",
            "metadata": {},
            "source": "\n### 3. \ud83d\udcdd **Single Quote (`\\'`)**\nInserts a single quote character in the text.\n"
        },
        {
            "cell_type": "code",
            "execution_count": null,
            "metadata": {},
            "outputs": [],
            "source": "text = 'It\\'s a beautiful day!'\nprint(text)\n# Output: It\\'s a beautiful day!"
        },
        {
            "cell_type": "markdown",
            "metadata": {},
            "source": "\n### 4. \ud83d\udcac **Double Quote (`\\\"`)**\nInserts a double quote character in the text.\n"
        },
        {
            "cell_type": "code",
            "execution_count": null,
            "metadata": {},
            "outputs": [],
            "source": "text = \"He said, \\\"Hello, World!\\\"\"\nprint(text)\n# Output: He said, \"Hello, World!\""
        },
        {
            "cell_type": "markdown",
            "metadata": {},
            "source": "\n### 5. \u21b9 **Tab (`\\t`)**\nInserts a tab space in the text.\n"
        },
        {
            "cell_type": "code",
            "execution_count": null,
            "metadata": {},
            "outputs": [],
            "source": "text = \"Hello,\\tWorld!\"\nprint(text)\n# Output: Hello,   World!"
        },
        {
            "cell_type": "markdown",
            "metadata": {},
            "source": "\n### 6. \u232b **Backspace (`\\b`)**\nInserts a backspace character in the text.\n"
        },
        {
            "cell_type": "code",
            "execution_count": null,
            "metadata": {},
            "outputs": [],
            "source": "text = \"Hello, \\bWorld!\"\nprint(text)\n# Output: Hello,World!"
        },
        {
            "cell_type": "markdown",
            "metadata": {},
            "source": "\n### 7. \u21a9\ufe0f **Carriage Return (`\\r`)**\nInserts a carriage return in the text.\n"
        },
        {
            "cell_type": "code",
            "execution_count": null,
            "metadata": {},
            "outputs": [],
            "source": "text = \"Hello,\\rWorld!\"\nprint(text)\n# Output: World!"
        },
        {
            "cell_type": "markdown",
            "metadata": {},
            "source": "\n### 8. \ud83d\udcc3 **Form Feed (`\\f`)**\nInserts a form feed in the text.\n"
        },
        {
            "cell_type": "code",
            "execution_count": null,
            "metadata": {},
            "outputs": [],
            "source": "text = \"Hello,\\fWorld!\"\nprint(text)\n# Output: Hello,World!"
        },
        {
            "cell_type": "markdown",
            "metadata": {},
            "source": "\n### 9. \ud83d\udc19 **Octal Value (`\\ooo`)**\nInserts a character based on its octal value.\n"
        },
        {
            "cell_type": "code",
            "execution_count": null,
            "metadata": {},
            "outputs": [],
            "source": "text = \"\\110\\145\\154\\154\\157\"\nprint(text)\n# Output: Hello"
        },
        {
            "cell_type": "markdown",
            "metadata": {},
            "source": "\n### 10. \ud83d\udd22 **Hex Value (`\\xhh`)**\nInserts a character based on its hex value.\n"
        },
        {
            "cell_type": "code",
            "execution_count": null,
            "metadata": {},
            "outputs": [],
            "source": "text = \"\\x48\\x65\\x6c\\x6c\\x6f\"\nprint(text)\n# Output: Hello"
        },
        {
            "cell_type": "markdown",
            "metadata": {},
            "source": "\n## Raw Strings\n\nIn raw strings, escape characters are not processed. You can create a raw string by prefixing the string with `r` or `R`.\n"
        },
        {
            "cell_type": "code",
            "execution_count": null,
            "metadata": {},
            "outputs": [],
            "source": "text = r\"This is a raw string: \\n will not be processed\"\nprint(text)\n# Output: This is a raw string: \\n will not be processed"
        },
        {
            "cell_type": "markdown",
            "metadata": {},
            "source": "\n### \ud83d\udce2 Stay Updated\n\nBe sure to \u2b50 this repository to stay updated with new examples and enhancements!\n\n### \ud83d\udcc4 License\n\ud83d\udd10 This project is protected under the [MIT License](https://mit-license.org/).\n\n### Contact \ud83d\udce7\nPanagiotis Moschos - pan.moschos86@gmail.com\n\n\ud83d\udd17 *Note: This is a Python script and requires a Python interpreter to run.*\n\n---\n\n<h1 align=center>Happy Coding \ud83d\udc68\u200d\ud83d\udcbb </h1>\n\n<p align=\"center\">\n  Made with \u2764\ufe0f by Panagiotis Moschos (https://github.com/pmoschos)\n</p>"
        }
    ],
    "metadata": {},
    "nbformat": 4,
    "nbformat_minor": 5
}