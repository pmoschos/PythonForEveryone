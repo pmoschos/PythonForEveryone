{
    "cells": [
        {
            "cell_type": "markdown",
            "metadata": {},
            "source": "\n# Python Modules \ud83d\udc0d\n\nPython modules are files containing Python code that can define functions, classes, and variables. Using modules helps in organizing and reusing code.\n\n## Why Use Modules?\n\n- **Organization**: Modules help organize related functions, classes, and variables.\n- **Reusability**: Code can be reused across different projects by importing modules.\n- **Namespace**: Modules create a separate namespace, avoiding conflicts between identifiers.\n\n## Importing Modules\n\nYou can import modules using the `import` keyword.\n"
        },
        {
            "cell_type": "code",
            "execution_count": null,
            "metadata": {},
            "outputs": [],
            "source": "import math\nimport datetime\nimport random\nimport re\nimport json\nimport collections\nimport itertools"
        },
        {
            "cell_type": "markdown",
            "metadata": {},
            "source": "\n## math Module\n\nThe `math` module provides mathematical functions.\n\n### Common Functions\n"
        },
        {
            "cell_type": "code",
            "execution_count": null,
            "metadata": {},
            "outputs": [],
            "source": "import math\n\n# Constants\nprint(math.pi)  # Output: 3.141592653589793\nprint(math.e)  # Output: 2.718281828459045\n\n# Trigonometric functions\nprint(math.sin(math.pi / 2))  # Output: 1.0\nprint(math.cos(0))  # Output: 1.0\n\n# Logarithmic functions\nprint(math.log(1))  # Output: 0.0\nprint(math.log10(100))  # Output: 2.0\n\n# Power and square root\nprint(math.pow(2, 3))  # Output: 8.0\nprint(math.sqrt(16))  # Output: 4.0\n\n# Rounding functions\nprint(math.floor(3.7))  # Output: 3\nprint(math.ceil(3.7))  # Output: 4"
        },
        {
            "cell_type": "markdown",
            "metadata": {},
            "source": "\n## datetime Module\n\nThe `datetime` module supplies classes for manipulating dates and times.\n\n### Common Classes and Methods\n"
        },
        {
            "cell_type": "code",
            "execution_count": null,
            "metadata": {},
            "outputs": [],
            "source": "import datetime\n\n# Getting current date and time\nnow = datetime.datetime.now()\nprint(now)\n\n# Creating specific dates\nnew_year = datetime.datetime(2024, 1, 1)\nprint(new_year)\n\n# Date arithmetic\none_day = datetime.timedelta(days=1)\ntomorrow = now + one_day\nprint(tomorrow)\n\n# Formatting dates\nformatted_date = now.strftime(\"%Y-%m-%d %H:%M:%S\")\nprint(formatted_date)"
        },
        {
            "cell_type": "markdown",
            "metadata": {},
            "source": "\n## random Module\n\nThe `random` module implements pseudo-random number generators for various distributions.\n\n### Common Functions\n"
        },
        {
            "cell_type": "code",
            "execution_count": null,
            "metadata": {},
            "outputs": [],
            "source": "import random\n\n# Generating random numbers\nprint(random.random())  # Output: Random float between 0.0 and 1.0\nprint(random.randint(1, 10))  # Output: Random integer between 1 and 10\n\n# Random choice\nchoices = ['apple', 'banana', 'cherry']\nprint(random.choice(choices))  # Output: Random choice from the list\n\n# Shuffling a list\nrandom.shuffle(choices)\nprint(choices)  # Output: Shuffled list\n\n# Sampling\nprint(random.sample(choices, 2))  # Output: 2 random elements from the list"
        },
        {
            "cell_type": "markdown",
            "metadata": {},
            "source": "\n## re Module\n\nThe `re` module provides regular expression matching operations.\n\n### Common Functions\n"
        },
        {
            "cell_type": "code",
            "execution_count": null,
            "metadata": {},
            "outputs": [],
            "source": "import re\n\n# Searching for patterns\npattern = r\"\\bword\\b\"\ntext = \"A word in a sentence.\"\nmatch = re.search(pattern, text)\nprint(match.group())  # Output: word\n\n# Finding all matches\nmatches = re.findall(r\"\\d+\", \"There are 123 numbers and 456 in this text.\")\nprint(matches)  # Output: ['123', '456']\n\n# Replacing patterns\nnew_text = re.sub(r\"\\d+\", \"#\", \"There are 123 numbers and 456 in this text.\")\nprint(new_text)  # Output: There are # numbers and # in this text."
        },
        {
            "cell_type": "markdown",
            "metadata": {},
            "source": "\n## json Module\n\nThe `json` module provides functions for parsing JSON strings and converting Python objects to JSON.\n\n### Common Functions\n"
        },
        {
            "cell_type": "code",
            "execution_count": null,
            "metadata": {},
            "outputs": [],
            "source": "import json\n\n# Converting Python objects to JSON\ndata = {\"name\": \"Alice\", \"age\": 25}\njson_str = json.dumps(data)\nprint(json_str)  # Output: '{\"name\": \"Alice\", \"age\": 25}'\n\n# Parsing JSON strings to Python objects\nparsed_data = json.loads(json_str)\nprint(parsed_data)  # Output: {'name': 'Alice', 'age': 25}\n\n# Reading from and writing to JSON files\nwith open(\"data.json\", \"w\") as file:\n    json.dump(data, file)\n\nwith open(\"data.json\", \"r\") as file:\n    loaded_data = json.load(file)\nprint(loaded_data)  # Output: {'name': 'Alice', 'age': 25}"
        },
        {
            "cell_type": "markdown",
            "metadata": {},
            "source": "\n## collections Module\n\nThe `collections` module provides specialized container datatypes.\n\n### Common Classes\n"
        },
        {
            "cell_type": "code",
            "execution_count": null,
            "metadata": {},
            "outputs": [],
            "source": "import collections\n\n# Named tuple\nPoint = collections.namedtuple('Point', ['x', 'y'])\np = Point(1, 2)\nprint(p.x, p.y)  # Output: 1 2\n\n# Counter\ncounter = collections.Counter(\"aabbcc\")\nprint(counter)  # Output: Counter({'a': 2, 'b': 2, 'c': 2})\n\n# defaultdict\ndefault_dict = collections.defaultdict(int)\ndefault_dict['a'] += 1\nprint(default_dict)  # Output: defaultdict(<class 'int'>, {'a': 1})\n\n# deque\nd = collections.deque([1, 2, 3])\nd.appendleft(0)\nd.append(4)\nprint(d)  # Output: deque([0, 1, 2, 3, 4])"
        },
        {
            "cell_type": "markdown",
            "metadata": {},
            "source": "\n## itertools Module\n\nThe `itertools` module provides functions for creating iterators for efficient looping.\n\n### Common Functions\n"
        },
        {
            "cell_type": "code",
            "execution_count": null,
            "metadata": {},
            "outputs": [],
            "source": "import itertools\n\n# Infinite iterators\ncounter = itertools.count(start=1, step=2)\nprint(next(counter))  # Output: 1\nprint(next(counter))  # Output: 3\n\n# Combinatoric iterators\npermutations = list(itertools.permutations([1, 2, 3]))\nprint(permutations)  # Output: [(1, 2, 3), (1, 3, 2), (2, 1, 3), (2, 3, 1), (3, 1, 2), (3, 2, 1)]\n\ncombinations = list(itertools.combinations([1, 2, 3], 2))\nprint(combinations)  # Output: [(1, 2), (1, 3), (2, 3)]\n\n# Grouping\ngroups = itertools.groupby(\"aaabbbcc\")\nfor key, group in groups:\n    print(key, list(group))  # Output: ('a', ['a', 'a', 'a']), ('b', ['b', 'b', 'b']), ('c', ['c', 'c'])"
        },
        {
            "cell_type": "markdown",
            "metadata": {},
            "source": "\n## Conclusion\n\nPython's standard library provides a rich set of modules and functions that facilitate various tasks. Understanding and utilizing these modules can significantly enhance your programming skills and efficiency.\n\n### \ud83d\udce2 Stay Updated\n\nBe sure to \u2b50 this repository to stay updated with new examples and enhancements!\n\n### \ud83d\udcc4 License\n\ud83d\udd10 This project is protected under the [MIT License](https://mit-license.org/).\n\n### Contact \ud83d\udce7\nPanagiotis Moschos - pan.moschos86@gmail.com\n\n\ud83d\udd17 *Note: This is a Python script and requires a Python interpreter to run.*\n\n---\n<h1 align=center>Happy Coding \ud83d\udc68\u200d\ud83d\udcbb </h1>\n\n<p align=\"center\">\n  Made with \u2764\ufe0f by Panagiotis Moschos (https://github.com/pmoschos)\n</p>"
        }
    ],
    "metadata": {},
    "nbformat": 4,
    "nbformat_minor": 5
}