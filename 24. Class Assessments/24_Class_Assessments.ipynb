{
    "cells": [
        {
            "cell_type": "markdown",
            "metadata": {},
            "source": "\n# Class Assessments\n\n## 1. Define a Simple Class\n**Assessment:**\nDefine a class Person with attributes name and age.\n\n**Solution:**\n"
        },
        {
            "cell_type": "code",
            "execution_count": null,
            "metadata": {},
            "outputs": [],
            "source": "class Person:\n    def __init__(self, name, age):\n        self.name = name\n        self.age = age\n\n# Test\nperson = Person(\"Alice\", 30)\nprint(person.name)  # Output: Alice\nprint(person.age)   # Output: 30"
        },
        {
            "cell_type": "markdown",
            "metadata": {},
            "source": "\n## 2. Class with Method\n**Assessment:**\nDefine a class Rectangle with attributes width and height, and a method area that calculates the area of the rectangle.\n\n**Solution:**\n"
        },
        {
            "cell_type": "code",
            "execution_count": null,
            "metadata": {},
            "outputs": [],
            "source": "class Rectangle:\n    def __init__(self, width, height):\n        self.width = width\n        self.height = height\n    \n    def area(self):\n        return self.width * self.height\n\n# Test\nrect = Rectangle(4, 5)\nprint(rect.area())  # Output: 20"
        },
        {
            "cell_type": "markdown",
            "metadata": {},
            "source": "\n## Intermediate Level\n\n## 3. Inheritance\n**Assessment:**\nDefine a class Animal with a method speak. Define a subclass Dog that overrides the speak method.\n\n**Solution:**\n"
        },
        {
            "cell_type": "code",
            "execution_count": null,
            "metadata": {},
            "outputs": [],
            "source": "class Animal:\n    def speak(self):\n        return \"Animal speaks\"\n\nclass Dog(Animal):\n    def speak(self):\n        return \"Woof!\"\n\n# Test\ndog = Dog()\nprint(dog.speak())  # Output: Woof!"
        },
        {
            "cell_type": "markdown",
            "metadata": {},
            "source": "\n## 4. Class with Class Method\n**Assessment:**\nDefine a class Circle with a class method from_diameter that creates a Circle instance using the diameter.\n\n**Solution:**\n"
        },
        {
            "cell_type": "code",
            "execution_count": null,
            "metadata": {},
            "outputs": [],
            "source": "import math\n\nclass Circle:\n    def __init__(self, radius):\n        self.radius = radius\n    \n    @classmethod\n    def from_diameter(cls, diameter):\n        radius = diameter / 2\n        return cls(radius)\n    \n    def area(self):\n        return math.pi * (self.radius ** 2)\n\n# Test\ncircle = Circle.from_diameter(10)\nprint(circle.radius)  # Output: 5.0\nprint(circle.area())  # Output: 78.53981633974483"
        },
        {
            "cell_type": "markdown",
            "metadata": {},
            "source": "\n## 5. Property Decorators\n**Assessment:**\nDefine a class Student with attributes name and _grade. Use a property decorator to create a getter and setter for grade.\n\n**Solution:**\n"
        },
        {
            "cell_type": "code",
            "execution_count": null,
            "metadata": {},
            "outputs": [],
            "source": "class Student:\n    def __init__(self, name, grade):\n        self.name = name\n        self._grade = grade\n    \n    @property\n    def grade(self):\n        return self._grade\n    \n    @grade.setter\n    def grade(self, value):\n        if 0 <= value <= 100:\n            self._grade = value\n        else:\n            raise ValueError(\"Grade must be between 0 and 100\")\n\n# Test\nstudent = Student(\"Bob\", 85)\nprint(student.grade)  # Output: 85\nstudent.grade = 95\nprint(student.grade)  # Output: 95"
        },
        {
            "cell_type": "markdown",
            "metadata": {},
            "source": "\n## Advanced Level\n\n## 6. Static Method\n**Assessment:**\nDefine a class MathUtils with a static method is_even that checks if a number is even.\n\n**Solution:**\n"
        },
        {
            "cell_type": "code",
            "execution_count": null,
            "metadata": {},
            "outputs": [],
            "source": "class MathUtils:\n    @staticmethod\n    def is_even(number):\n        return number % 2 == 0\n\n# Test\nprint(MathUtils.is_even(4))  # Output: True\nprint(MathUtils.is_even(5))  # Output: False"
        },
        {
            "cell_type": "markdown",
            "metadata": {},
            "source": "\n## 7. Class with Magic Methods\n**Assessment:**\nDefine a class Vector with attributes x and y. Implement the __add__ method to add two vectors.\n\n**Solution:**\n"
        },
        {
            "cell_type": "code",
            "execution_count": null,
            "metadata": {},
            "outputs": [],
            "source": "class Vector:\n    def __init__(self, x, y):\n        self.x = x\n        self.y = y\n    \n    def __add__(self, other):\n        return Vector(self.x + other.x, self.y + other.y)\n    \n    def __repr__(self):\n        return f\"Vector({self.x}, {self.y})\"\n\n# Test\nv1 = Vector(1, 2)\nv2 = Vector(3, 4)\nv3 = v1 + v2\nprint(v3)  # Output: Vector(4, 6)"
        },
        {
            "cell_type": "markdown",
            "metadata": {},
            "source": "\n## 8. Encapsulation\n**Assessment:**\nDefine a class BankAccount with a private attribute _balance. Provide methods to deposit, withdraw, and check the balance.\n\n**Solution:**\n"
        },
        {
            "cell_type": "code",
            "execution_count": null,
            "metadata": {},
            "outputs": [],
            "source": "class BankAccount:\n    def __init__(self, initial_balance=0):\n        self._balance = initial_balance\n    \n    def deposit(self, amount):\n        if amount > 0:\n            self._balance += amount\n        else:\n            raise ValueError(\"Deposit amount must be positive\")\n    \n    def withdraw(self, amount):\n        if 0 < amount <= self._balance:\n            self._balance -= amount\n        else:\n            raise ValueError(\"Invalid withdrawal amount\")\n    \n    def get_balance(self):\n        return self._balance\n\n# Test\naccount = BankAccount(100)\naccount.deposit(50)\nprint(account.get_balance())  # Output: 150\naccount.withdraw(30)\nprint(account.get_balance())  # Output: 120"
        },
        {
            "cell_type": "markdown",
            "metadata": {},
            "source": "\n## 9. Multiple Inheritance\n**Assessment:**\nDefine two classes Flyable and Swimmable, each with a method move. Define a class Duck that inherits from both and overrides the move method.\n\n**Solution:**\n"
        },
        {
            "cell_type": "code",
            "execution_count": null,
            "metadata": {},
            "outputs": [],
            "source": "class Flyable:\n    def move(self):\n        return \"Flying\"\n\nclass Swimmable:\n    def move(self):\n        return \"Swimming\"\n\nclass Duck(Flyable, Swimmable):\n    def move(self):\n        return \"Flying and Swimming\"\n\n# Test\nduck = Duck()\nprint(duck.move())  # Output: Flying and Swimming"
        },
        {
            "cell_type": "markdown",
            "metadata": {},
            "source": "\n## 10. Abstract Base Class\n**Assessment:**\nDefine an abstract base class Shape with an abstract method area. Define two subclasses Square and Circle that implement the area method.\n\n**Solution:**\n"
        },
        {
            "cell_type": "code",
            "execution_count": null,
            "metadata": {},
            "outputs": [],
            "source": "from abc import ABC, abstractmethod\nimport math\n\nclass Shape(ABC):\n    @abstractmethod\n    def area(self):\n        pass\n\nclass Square(Shape):\n    def __init__(self, side):\n        self.side = side\n    \n    def area(self):\n        return self.side ** 2\n\nclass Circle(Shape):\n    def __init__(self, radius):\n        self.radius = radius\n    \n    def area(self):\n        return math.pi * (self.radius ** 2)\n\n# Test\nsquare = Square(4)\ncircle = Circle(3)\nprint(square.area())  # Output: 16\nprint(circle.area())  # Output: 28.274333882308138"
        }
    ],
    "metadata": {},
    "nbformat": 4,
    "nbformat_minor": 5
}