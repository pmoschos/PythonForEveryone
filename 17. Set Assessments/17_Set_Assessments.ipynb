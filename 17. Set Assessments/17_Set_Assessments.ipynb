{
    "cells": [
        {
            "cell_type": "markdown",
            "metadata": {},
            "source": "\n# 17 Set Assessments in Python \ud83d\udc0d\n\nThis document provides 17 set assessments in Python, ranging from easy to hard, including their solutions and expected results.\n\n## Easy Assessments\n\n### 1. \ud83d\udee0\ufe0f Create a Set\nWrite a function that creates a set from a list.\n"
        },
        {
            "cell_type": "code",
            "execution_count": null,
            "metadata": {},
            "outputs": [],
            "source": "def create_set(lst):\n    return set(lst)\n\n# Test\nprint(create_set([1, 2, 3, 4, 5]))  # Output: {1, 2, 3, 4, 5}"
        },
        {
            "cell_type": "markdown",
            "metadata": {},
            "source": "\n### 2. \u2795 Add Element to Set\nWrite a function to add an element to a set.\n"
        },
        {
            "cell_type": "code",
            "execution_count": null,
            "metadata": {},
            "outputs": [],
            "source": "def add_element(s, elem):\n    s.add(elem)\n    return s\n\n# Test\nprint(add_element({1, 2, 3}, 4))  # Output: {1, 2, 3, 4}"
        },
        {
            "cell_type": "markdown",
            "metadata": {},
            "source": "\n### 3. \u2796 Remove Element from Set\nWrite a function to remove an element from a set.\n"
        },
        {
            "cell_type": "code",
            "execution_count": null,
            "metadata": {},
            "outputs": [],
            "source": "def remove_element(s, elem):\n    s.discard(elem)\n    return s\n\n# Test\nprint(remove_element({1, 2, 3}, 2))  # Output: {1, 3}"
        },
        {
            "cell_type": "markdown",
            "metadata": {},
            "source": "\n### 4. \u2705 Check Element in Set\nWrite a function to check if an element exists in a set.\n"
        },
        {
            "cell_type": "code",
            "execution_count": null,
            "metadata": {},
            "outputs": [],
            "source": "def check_element(s, elem):\n    return elem in s\n\n# Test\nprint(check_element({1, 2, 3}, 2))  # Output: True"
        },
        {
            "cell_type": "markdown",
            "metadata": {},
            "source": "\n### 5. \ud83d\udd04 Set Union\nWrite a function to return the union of two sets.\n"
        },
        {
            "cell_type": "code",
            "execution_count": null,
            "metadata": {},
            "outputs": [],
            "source": "def set_union(s1, s2):\n    return s1 | s2\n\n# Test\nprint(set_union({1, 2, 3}, {3, 4, 5}))  # Output: {1, 2, 3, 4, 5}"
        },
        {
            "cell_type": "markdown",
            "metadata": {},
            "source": "\n## Medium Assessments\n\n### 6. \ud83d\udd04 Set Intersection\nWrite a function to return the intersection of two sets.\n"
        },
        {
            "cell_type": "code",
            "execution_count": null,
            "metadata": {},
            "outputs": [],
            "source": "def set_intersection(s1, s2):\n    return s1 & s2\n\n# Test\nprint(set_intersection({1, 2, 3}, {3, 4, 5}))  # Output: {3}"
        },
        {
            "cell_type": "markdown",
            "metadata": {},
            "source": "\n### 7. \ud83d\udd04 Set Difference\nWrite a function to return the difference of two sets.\n"
        },
        {
            "cell_type": "code",
            "execution_count": null,
            "metadata": {},
            "outputs": [],
            "source": "def set_difference(s1, s2):\n    return s1 - s2\n\n# Test\nprint(set_difference({1, 2, 3}, {3, 4, 5}))  # Output: {1, 2}"
        },
        {
            "cell_type": "markdown",
            "metadata": {},
            "source": "\n### 8. \ud83d\udd04 Set Symmetric Difference\nWrite a function to return the symmetric difference of two sets.\n"
        },
        {
            "cell_type": "code",
            "execution_count": null,
            "metadata": {},
            "outputs": [],
            "source": "def set_symmetric_difference(s1, s2):\n    return s1 ^ s2\n\n# Test\nprint(set_symmetric_difference({1, 2, 3}, {3, 4, 5}))  # Output: {1, 2, 4, 5}"
        },
        {
            "cell_type": "markdown",
            "metadata": {},
            "source": "\n### 9. \ud83d\udcd1 Check Subset\nWrite a function to check if one set is a subset of another.\n"
        },
        {
            "cell_type": "code",
            "execution_count": null,
            "metadata": {},
            "outputs": [],
            "source": "def check_subset(s1, s2):\n    return s1.issubset(s2)\n\n# Test\nprint(check_subset({1, 2}, {1, 2, 3}))  # Output: True"
        },
        {
            "cell_type": "markdown",
            "metadata": {},
            "source": "\n### 10. \ud83d\udd0d Check Superset\nWrite a function to check if one set is a superset of another.\n"
        },
        {
            "cell_type": "code",
            "execution_count": null,
            "metadata": {},
            "outputs": [],
            "source": "def check_superset(s1, s2):\n    return s1.issuperset(s2)\n\n# Test\nprint(check_superset({1, 2, 3}, {1, 2}))  # Output: True"
        },
        {
            "cell_type": "markdown",
            "metadata": {},
            "source": "\n### 11. \ud83d\udd04 Convert Set to List\nWrite a function to convert a set to a list.\n"
        },
        {
            "cell_type": "code",
            "execution_count": null,
            "metadata": {},
            "outputs": [],
            "source": "def set_to_list(s):\n    return list(s)\n\n# Test\nprint(set_to_list({1, 2, 3}))  # Output: [1, 2, 3]"
        },
        {
            "cell_type": "markdown",
            "metadata": {},
            "source": "\n### 12. \ud83d\udd0d Find Max Element in Set\nWrite a function to find the maximum element in a set.\n"
        },
        {
            "cell_type": "code",
            "execution_count": null,
            "metadata": {},
            "outputs": [],
            "source": "def max_element(s):\n    return max(s)\n\n# Test\nprint(max_element({1, 2, 3, 4, 5}))  # Output: 5"
        },
        {
            "cell_type": "markdown",
            "metadata": {},
            "source": "\n### 13. \ud83d\udd0d Find Min Element in Set\nWrite a function to find the minimum element in a set.\n"
        },
        {
            "cell_type": "code",
            "execution_count": null,
            "metadata": {},
            "outputs": [],
            "source": "def min_element(s):\n    return min(s)\n\n# Test\nprint(min_element({1, 2, 3, 4, 5}))  # Output: 1"
        },
        {
            "cell_type": "markdown",
            "metadata": {},
            "source": "\n### 14. \ud83d\udd04 Set Comprehension\nWrite a function that returns a set of squares of the elements in a set.\n"
        },
        {
            "cell_type": "code",
            "execution_count": null,
            "metadata": {},
            "outputs": [],
            "source": "def set_comprehension(s):\n    return {x ** 2 for x in s}\n\n# Test\nprint(set_comprehension({1, 2, 3}))  # Output: {1, 4, 9}"
        },
        {
            "cell_type": "markdown",
            "metadata": {},
            "source": "\n### 15. \u274c Remove Duplicates from List\nWrite a function to remove duplicates from a list using a set.\n"
        },
        {
            "cell_type": "code",
            "execution_count": null,
            "metadata": {},
            "outputs": [],
            "source": "def remove_duplicates(lst):\n    return list(set(lst))\n\n# Test\nprint(remove_duplicates([1, 2, 2, 3, 3, 3, 4]))  # Output: [1, 2, 3, 4]"
        },
        {
            "cell_type": "markdown",
            "metadata": {},
            "source": "\n### 16. \ud83d\udccf Set Length\nWrite a function to find the length of a set.\n"
        },
        {
            "cell_type": "code",
            "execution_count": null,
            "metadata": {},
            "outputs": [],
            "source": "def set_length(s):\n    return len(s)\n\n# Test\nprint(set_length({1, 2, 3, 4, 5}))  # Output: 5"
        },
        {
            "cell_type": "markdown",
            "metadata": {},
            "source": "\n### 17. \ud83d\udd0d Find Common Elements in Multiple Sets\nWrite a function to find common elements in multiple sets.\n"
        },
        {
            "cell_type": "code",
            "execution_count": null,
            "metadata": {},
            "outputs": [],
            "source": "def common_elements(*sets):\n    return set.intersection(*sets)\n\n# Test\nprint(common_elements({1, 2, 3}, {2, 3, 4}, {3, 4, 5}))  # Output: {3}"
        },
        {
            "cell_type": "markdown",
            "metadata": {},
            "source": "\n### \ud83d\udce2 Stay Updated\n\nBe sure to \u2b50 this repository to stay updated with new examples and enhancements!\n\n### \ud83d\udcc4 License\n\ud83d\udd10 This project is protected under the [MIT License](https://mit-license.org/).\n\n### Contact \ud83d\udce7\nPanagiotis Moschos - pan.moschos86@gmail.com\n\n\ud83d\udd17 *Note: This is a Python script and requires a Python interpreter to run.*\n\n---\n\n<h1 align=center>Happy Coding \ud83d\udc68\u200d\ud83d\udcbb </h1>\n\n<p align=\"center\">\n  Made with \u2764\ufe0f by Panagiotis Moschos (https://github.com/pmoschos)\n</p>"
        }
    ],
    "metadata": {},
    "nbformat": 4,
    "nbformat_minor": 5
}