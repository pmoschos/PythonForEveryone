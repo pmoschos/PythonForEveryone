{
    "cells": [
        {
            "cell_type": "markdown",
            "metadata": {},
            "source": "\n# Lists in Python \ud83d\udc0d\n\nLists are one of the most commonly used data types in Python. They are mutable, ordered collections of items that can be of different types.\n\n## \ud83d\udd24 Creating Lists\n\nYou can create a list by enclosing items in square brackets `[]`.\n"
        },
        {
            "cell_type": "code",
            "execution_count": null,
            "metadata": {},
            "outputs": [],
            "source": "# Empty list\nempty_list = []\n\n# List of integers\nint_list = [1, 2, 3, 4, 5]\n\n# List of strings\nstr_list = [\"apple\", \"banana\", \"cherry\"]\n\n# Mixed type list\nmixed_list = [1, \"hello\", 3.14, True]\n\nprint(empty_list)\nprint(int_list)\nprint(str_list)\nprint(mixed_list)"
        },
        {
            "cell_type": "markdown",
            "metadata": {},
            "source": "\n## \ud83d\udd0d Accessing List Elements\n\nYou can access elements in a list by their index. Python uses zero-based indexing.\n"
        },
        {
            "cell_type": "code",
            "execution_count": null,
            "metadata": {},
            "outputs": [],
            "source": "fruits = [\"apple\", \"banana\", \"cherry\"]\n\n# Accessing the first element\nprint(fruits[0])  # Output: apple\n\n# Accessing the last element\nprint(fruits[-1])  # Output: cherry\n\n# Accessing a slice of the list\nprint(fruits[1:3])  # Output: ['banana', 'cherry']"
        },
        {
            "cell_type": "markdown",
            "metadata": {},
            "source": "\n## \ud83d\udee0\ufe0f Modifying Lists\n\n### Adding Elements\n\nYou can add elements to a list using methods like `append()`, `insert()`, and `extend()`.\n"
        },
        {
            "cell_type": "code",
            "execution_count": null,
            "metadata": {},
            "outputs": [],
            "source": "fruits = [\"apple\", \"banana\"]\n\n# Append adds an element at the end\nfruits.append(\"cherry\")\nprint(fruits)  # Output: ['apple', 'banana', 'cherry']\n\n# Insert adds an element at a specific position\nfruits.insert(1, \"orange\")\nprint(fruits)  # Output: ['apple', 'orange', 'banana', 'cherry']\n\n# Extend adds multiple elements at the end\nfruits.extend([\"mango\", \"grape\"])\nprint(fruits)  # Output: ['apple', 'orange', 'banana', 'cherry', 'mango', 'grape']"
        },
        {
            "cell_type": "markdown",
            "metadata": {},
            "source": "\n### Removing Elements\n\nYou can remove elements from a list using methods like `remove()`, `pop()`, and `clear()`.\n"
        },
        {
            "cell_type": "code",
            "execution_count": null,
            "metadata": {},
            "outputs": [],
            "source": "fruits = [\"apple\", \"banana\", \"cherry\", \"banana\"]\n\n# Remove removes the first occurrence of the specified value\nfruits.remove(\"banana\")\nprint(fruits)  # Output: ['apple', 'cherry', 'banana']\n\n# Pop removes and returns the element at the specified position\npopped_fruit = fruits.pop(1)\nprint(popped_fruit)  # Output: cherry\nprint(fruits)  # Output: ['apple', 'banana']\n\n# Clear removes all elements from the list\nfruits.clear()\nprint(fruits)  # Output: []"
        },
        {
            "cell_type": "markdown",
            "metadata": {},
            "source": "\n## \ud83d\udcd1 Common List Methods\n\n### 1. **index()**\nReturns the index of the first occurrence of a specified value.\n"
        },
        {
            "cell_type": "code",
            "execution_count": null,
            "metadata": {},
            "outputs": [],
            "source": "fruits = [\"apple\", \"banana\", \"cherry\"]\nprint(fruits.index(\"banana\"))  # Output: 1"
        },
        {
            "cell_type": "markdown",
            "metadata": {},
            "source": "\n### 2. **count()**\nReturns the number of occurrences of a specified value.\n"
        },
        {
            "cell_type": "code",
            "execution_count": null,
            "metadata": {},
            "outputs": [],
            "source": "fruits = [\"apple\", \"banana\", \"cherry\", \"banana\"]\nprint(fruits.count(\"banana\"))  # Output: 2"
        },
        {
            "cell_type": "markdown",
            "metadata": {},
            "source": "\n### 3. **sort()**\nSorts the list in ascending order.\n"
        },
        {
            "cell_type": "code",
            "execution_count": null,
            "metadata": {},
            "outputs": [],
            "source": "numbers = [3, 1, 4, 1, 5, 9]\nnumbers.sort()\nprint(numbers)  # Output: [1, 1, 3, 4, 5, 9]"
        },
        {
            "cell_type": "markdown",
            "metadata": {},
            "source": "\n### 4. **reverse()**\nReverses the order of the list.\n"
        },
        {
            "cell_type": "code",
            "execution_count": null,
            "metadata": {},
            "outputs": [],
            "source": "numbers = [1, 2, 3, 4, 5]\nnumbers.reverse()\nprint(numbers)  # Output: [5, 4, 3, 2, 1]"
        },
        {
            "cell_type": "markdown",
            "metadata": {},
            "source": "\n## \ud83d\udd8b\ufe0f List Comprehensions\n\nList comprehensions provide a concise way to create lists.\n"
        },
        {
            "cell_type": "code",
            "execution_count": null,
            "metadata": {},
            "outputs": [],
            "source": "# Creating a list of squares\nsquares = [x**2 for x in range(10)]\nprint(squares)  # Output: [0, 1, 4, 9, 16, 25, 36, 49, 64, 81]"
        },
        {
            "cell_type": "markdown",
            "metadata": {},
            "source": "\n## \ud83d\uddc2\ufe0f Nested Lists\n\nLists can contain other lists as elements, creating nested lists.\n"
        },
        {
            "cell_type": "code",
            "execution_count": null,
            "metadata": {},
            "outputs": [],
            "source": "nested_list = [[1, 2, 3], [4, 5, 6], [7, 8, 9]]\nprint(nested_list)  # Output: [[1, 2, 3], [4, 5, 6], [7, 8, 9]]\n\n# Accessing elements in a nested list\nprint(nested_list[0][1])  # Output: 2"
        },
        {
            "cell_type": "markdown",
            "metadata": {},
            "source": "\n### \ud83d\udce2 Stay Updated\n\nBe sure to \u2b50 this repository to stay updated with new examples and enhancements!\n\n### \ud83d\udcc4 License\n\ud83d\udd10 This project is protected under the [MIT License](https://mit-license.org/).\n\n### Contact \ud83d\udce7\nPanagiotis Moschos - pan.moschos86@gmail.com\n\n\ud83d\udd17 *Note: This is a Python script and requires a Python interpreter to run.*\n\n---\n\n<h1 align=center>Happy Coding \ud83d\udc68\u200d\ud83d\udcbb </h1>\n\n<p align=\"center\">\n  Made with \u2764\ufe0f by Panagiotis Moschos (https://github.com/pmoschos)\n</p>"
        }
    ],
    "metadata": {},
    "nbformat": 4,
    "nbformat_minor": 5
}