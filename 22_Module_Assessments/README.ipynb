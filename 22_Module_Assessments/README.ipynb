{
    "cells": [
        {
            "cell_type": "markdown",
            "metadata": {},
            "source": "\n# 22 Module Assessments in Python \ud83d\udc0d\n\nThis document provides 22 assessments covering the math, datetime, random, re, json, collections, and itertools modules in Python, ranging from easy to hard, including their solutions and expected results.\n\n## Math Module Assessments\n\n### 1. Calculate Factorial\nWrite a function to calculate the factorial of a number using the math module.\n"
        },
        {
            "cell_type": "code",
            "execution_count": null,
            "metadata": {},
            "outputs": [],
            "source": "import math\n\ndef calculate_factorial(n):\n    return math.factorial(n)\n\n# Test\nprint(calculate_factorial(5))  # Output: 120"
        },
        {
            "cell_type": "markdown",
            "metadata": {},
            "source": "\n### 2. Calculate GCD\nWrite a function to calculate the greatest common divisor (GCD) of two numbers using the math module.\n"
        },
        {
            "cell_type": "code",
            "execution_count": null,
            "metadata": {},
            "outputs": [],
            "source": "import math\n\ndef calculate_gcd(a, b):\n    return math.gcd(a, b)\n\n# Test\nprint(calculate_gcd(48, 18))  # Output: 6"
        },
        {
            "cell_type": "markdown",
            "metadata": {},
            "source": "\n## Datetime Module Assessments\n\n### 3. Get Current Date and Time\nWrite a function to get the current date and time using the datetime module.\n"
        },
        {
            "cell_type": "code",
            "execution_count": null,
            "metadata": {},
            "outputs": [],
            "source": "from datetime import datetime\n\ndef get_current_datetime():\n    return datetime.now()\n\n# Test\nprint(get_current_datetime())  # Output: current date and time"
        },
        {
            "cell_type": "markdown",
            "metadata": {},
            "source": "\n### 4. Calculate Age\nWrite a function to calculate age given a birthdate using the datetime module.\n"
        },
        {
            "cell_type": "code",
            "execution_count": null,
            "metadata": {},
            "outputs": [],
            "source": "from datetime import datetime\n\ndef calculate_age(birthdate):\n    today = datetime.now()\n    age = today.year - birthdate.year - ((today.month, today.day) < (birthdate.month, birthdate.day))\n    return age\n\n# Test\nprint(calculate_age(datetime(1990, 7, 22)))  # Output: age in years"
        },
        {
            "cell_type": "markdown",
            "metadata": {},
            "source": "\n## Random Module Assessments\n\n### 5. Generate Random Integer\nWrite a function to generate a random integer between two numbers using the random module.\n"
        },
        {
            "cell_type": "code",
            "execution_count": null,
            "metadata": {},
            "outputs": [],
            "source": "import random\n\ndef generate_random_integer(a, b):\n    return random.randint(a, b)\n\n# Test\nprint(generate_random_integer(1, 10))  # Output: random integer between 1 and 10"
        },
        {
            "cell_type": "markdown",
            "metadata": {},
            "source": "\n### 6. Shuffle a List\nWrite a function to shuffle a list using the random module.\n"
        },
        {
            "cell_type": "code",
            "execution_count": null,
            "metadata": {},
            "outputs": [],
            "source": "import random\n\ndef shuffle_list(lst):\n    random.shuffle(lst)\n    return lst\n\n# Test\nprint(shuffle_list([1, 2, 3, 4, 5]))  # Output: shuffled list"
        },
        {
            "cell_type": "markdown",
            "metadata": {},
            "source": "\n## Re Module Assessments\n\n### 7. Find All Matches\nWrite a function to find all matches of a pattern in a string using the re module.\n"
        },
        {
            "cell_type": "code",
            "execution_count": null,
            "metadata": {},
            "outputs": [],
            "source": "import re\n\ndef find_all_matches(pattern, string):\n    return re.findall(pattern, string)\n\n# Test\nprint(find_all_matches(r'\\b\\w+\\b', 'This is a test'))  # Output: ['This', 'is', 'a', 'test']"
        },
        {
            "cell_type": "markdown",
            "metadata": {},
            "source": "\n### 8. Replace Pattern\nWrite a function to replace all occurrences of a pattern in a string with a replacement using the re module.\n"
        },
        {
            "cell_type": "code",
            "execution_count": null,
            "metadata": {},
            "outputs": [],
            "source": "import re\n\ndef replace_pattern(pattern, repl, string):\n    return re.sub(pattern, repl, string)\n\n# Test\nprint(replace_pattern(r'\\b\\w+\\b', 'word', 'This is a test'))  # Output: 'word word word word'"
        },
        {
            "cell_type": "markdown",
            "metadata": {},
            "source": "\n## Json Module Assessments\n\n### 9. Convert Dictionary to JSON\nWrite a function to convert a dictionary to a JSON string using the json module.\n"
        },
        {
            "cell_type": "code",
            "execution_count": null,
            "metadata": {},
            "outputs": [],
            "source": "import json\n\ndef dict_to_json(d):\n    return json.dumps(d)\n\n# Test\nprint(dict_to_json({'a': 1, 'b': 2}))  # Output: '{\"a\": 1, \"b\": 2}'"
        },
        {
            "cell_type": "markdown",
            "metadata": {},
            "source": "\n### 10. Convert JSON to Dictionary\nWrite a function to convert a JSON string to a dictionary using the json module.\n"
        },
        {
            "cell_type": "code",
            "execution_count": null,
            "metadata": {},
            "outputs": [],
            "source": "import json\n\ndef json_to_dict(json_str):\n    return json.loads(json_str)\n\n# Test\nprint(json_to_dict('{\"a\": 1, \"b\": 2}'))  # Output: {'a': 1, 'b': 2}"
        },
        {
            "cell_type": "markdown",
            "metadata": {},
            "source": "\n## Collections Module Assessments\n\n### 11. Count Elements\nWrite a function to count the occurrences of elements in a list using collections.Counter.\n"
        },
        {
            "cell_type": "code",
            "execution_count": null,
            "metadata": {},
            "outputs": [],
            "source": "from collections import Counter\n\ndef count_elements(lst):\n    return Counter(lst)\n\n# Test\nprint(count_elements([1, 2, 2, 3, 3, 3]))  # Output: Counter({3: 3, 2: 2, 1: 1})"
        },
        {
            "cell_type": "markdown",
            "metadata": {},
            "source": "\n### 12. Group by Key\nWrite a function to group elements by a key using collections.defaultdict.\n"
        },
        {
            "cell_type": "code",
            "execution_count": null,
            "metadata": {},
            "outputs": [],
            "source": "from collections import defaultdict\n\ndef group_by_key(lst, key_func):\n    grouped = defaultdict(list)\n    for item in lst:\n        grouped[key_func(item)].append(item)\n    return dict(grouped)\n\n# Test\nprint(group_by_key(['apple', 'banana', 'cherry', 'date'], lambda x: x[0]))  \n# Output: {'a': ['apple'], 'b': ['banana'], 'c': ['cherry'], 'd': ['date']}"
        },
        {
            "cell_type": "markdown",
            "metadata": {},
            "source": "\n## Itertools Module Assessments\n\n### 13. Get Cartesian Product\nWrite a function to get the Cartesian product of two lists using itertools.product.\n"
        },
        {
            "cell_type": "code",
            "execution_count": null,
            "metadata": {},
            "outputs": [],
            "source": "from itertools import product\n\ndef cartesian_product(lst1, lst2):\n    return list(product(lst1, lst2))\n\n# Test\nprint(cartesian_product([1, 2], ['a', 'b']))  # Output: [(1, 'a'), (1, 'b'), (2, 'a'), (2, 'b')]"
        },
        {
            "cell_type": "markdown",
            "metadata": {},
            "source": "\n### 14. Group by Key\nWrite a function to group elements by a key using itertools.groupby.\n"
        },
        {
            "cell_type": "code",
            "execution_count": null,
            "metadata": {},
            "outputs": [],
            "source": "from itertools import groupby\n\ndef group_by_key(lst, key_func):\n    grouped = {k: list(g) for k, g in groupby(sorted(lst, key=key_func), key_func)}\n    return grouped\n\n# Test\nprint(group_by_key(['apple', 'banana', 'cherry', 'date'], lambda x: x[0]))  \n# Output: {'a': ['apple'], 'b': ['banana'], 'c': ['cherry'], 'd': ['date']}"
        },
        {
            "cell_type": "markdown",
            "metadata": {},
            "source": "\n## Advanced Assessments\n\n### 15. Calculate Combination\nWrite a function to calculate the number of combinations (nCr) using the math module.\n"
        },
        {
            "cell_type": "code",
            "execution_count": null,
            "metadata": {},
            "outputs": [],
            "source": "import math\n\ndef calculate_combination(n, r):\n    return math.comb(n, r)\n\n# Test\nprint(calculate_combination(5, 2))  # Output: 10"
        },
        {
            "cell_type": "markdown",
            "metadata": {},
            "source": "\n### 16. Get Date Difference\nWrite a function to get the difference between two dates in days using the datetime module.\n"
        },
        {
            "cell_type": "code",
            "execution_count": null,
            "metadata": {},
            "outputs": [],
            "source": "from datetime import datetime\n\ndef date_difference(date1, date2):\n    return abs((date2 - date1).days)\n\n# Test\nprint(date_difference(datetime(2024, 1, 1), datetime(2024, 1, 10)))  # Output: 9"
        },
        {
            "cell_type": "markdown",
            "metadata": {},
            "source": "\n### 17. Generate Random Choice\nWrite a function to randomly select an element from a list using the random module.\n"
        },
        {
            "cell_type": "code",
            "execution_count": null,
            "metadata": {},
            "outputs": [],
            "source": "import random\n\ndef random_choice(lst):\n    return random.choice(lst)\n\n# Test\nprint(random_choice([1, 2, 3, 4, 5]))  # Output: random element from the list"
        },
        {
            "cell_type": "markdown",
            "metadata": {},
            "source": "\n### 18. Validate Email\nWrite a function to validate an email address using the re module.\n"
        },
        {
            "cell_type": "code",
            "execution_count": null,
            "metadata": {},
            "outputs": [],
            "source": "import re\n\ndef validate_email(email):\n    pattern = r'^[a-zA-Z0-9_.+-]+@[a-zA-Z0-9-]+\\.[a-zA-Z0-9-.]+$'\n    return re.match(pattern, email) is not None\n\n# Test\nprint(validate_email('test@example.com'))  # Output: True\nprint(validate_email('invalid-email'))  # Output: False"
        },
        {
            "cell_type": "markdown",
            "metadata": {},
            "source": "\n### 19. Pretty Print JSON\nWrite a function to pretty print a JSON string using the json module.\n"
        },
        {
            "cell_type": "code",
            "execution_count": null,
            "metadata": {},
            "outputs": [],
            "source": "import json\n\ndef pretty_print_json(json_str):\n    return json.dumps(json.loads(json_str), indent=4)\n\n# Test\nprint(pretty_print_json('{\"a\": 1, \"b\": 2}'))  # Output: pretty-printed JSON string"
        },
        {
            "cell_type": "markdown",
            "metadata": {},
            "source": "\n### 20. Count Unique Elements\nWrite a function to count the number of unique elements in a list using collections.Counter.\n"
        },
        {
            "cell_type": "code",
            "execution_count": null,
            "metadata": {},
            "outputs": [],
            "source": "from collections import Counter\n\ndef count_unique_elements(lst):\n    return len(Counter(lst))\n\n# Test\nprint(count_unique_elements([1, 2, 2, 3, 3, 3]))  # Output: 3"
        },
        {
            "cell_type": "markdown",
            "metadata": {},
            "source": "\n### 21. Generate Permutations\nWrite a function to generate all permutations of a list using itertools.permutations.\n"
        },
        {
            "cell_type": "code",
            "execution_count": null,
            "metadata": {},
            "outputs": [],
            "source": "from itertools import permutations\n\ndef generate_permutations(lst):\n    return list(permutations(lst))\n\n# Test\nprint(generate_permutations([1, 2, 3]))  # Output: all permutations of the list"
        },
        {
            "cell_type": "markdown",
            "metadata": {},
            "source": "\n### 22. Convert Date to String\nWrite a function to convert a datetime object to a formatted string using the datetime module.\n"
        },
        {
            "cell_type": "code",
            "execution_count": null,
            "metadata": {},
            "outputs": [],
            "source": "from datetime import datetime\n\ndef date_to_string(date, format):\n    return date.strftime(format)\n\n# Test\nprint(date_to_string(datetime(2024, 1, 1), \"%Y-%m-%d\"))  # Output: '2024-01-01'"
        },
        {
            "cell_type": "markdown",
            "metadata": {},
            "source": "\n### \ud83d\udce2 Stay Updated\n\nBe sure to \u2b50 this repository to stay updated with new examples and enhancements!\n\n### \ud83d\udcc4 License\n\ud83d\udd10 This project is protected under the [MIT License](https://mit-license.org/).\n\n### Contact \ud83d\udce7\nPanagiotis Moschos - pan.moschos86@gmail.com\n\n\ud83d\udd17 *Note: This is a Python script and requires a Python interpreter to run.*\n\n---\n\n<h1 align=center>Happy Coding \ud83d\udc68\u200d\ud83d\udcbb </h1>\n\n<p align=\"center\">\n  Made with \u2764\ufe0f by Panagiotis Moschos (https://github.com/pmoschos)\n</p>"
        }
    ],
    "metadata": {},
    "nbformat": 4,
    "nbformat_minor": 5
}