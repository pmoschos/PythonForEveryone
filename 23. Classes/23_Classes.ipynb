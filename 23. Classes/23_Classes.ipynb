{
    "cells": [
        {
            "cell_type": "markdown",
            "metadata": {},
            "source": "\n# \ud83d\udd39 Classes in Python \ud83d\udc0d\n\nClasses provide a means of bundling data and functionality together. Creating a new class creates a new type of object, allowing new instances of that type to be made.\n\n## \ud83d\udd39 Why Use Classes?\n\n- **Encapsulation**: Bundling data and methods that operate on the data within one unit.\n- **Inheritance**: Mechanism for creating a new class using details of an existing class without modifying it.\n- **Polymorphism**: Ability to define methods in a child class that have the same name as the methods in the parent class.\n\n## \ud83d\udd39 Defining Classes\n\nYou can define a class using the `class` keyword followed by the class name.\n"
        },
        {
            "cell_type": "code",
            "execution_count": null,
            "metadata": {},
            "outputs": [],
            "source": "class MyClass:\n    '''This is a simple class.'''\n    pass"
        },
        {
            "cell_type": "markdown",
            "metadata": {},
            "source": "\n## \ud83d\udd39 Creating Objects\n\nObjects are instances of a class. You can create an object by calling the class.\n"
        },
        {
            "cell_type": "code",
            "execution_count": null,
            "metadata": {},
            "outputs": [],
            "source": "class Dog:\n    '''A simple class to represent a dog.'''\n    \n    def __init__(self, name, age):\n        self.name = name\n        self.age = age\n    \n    def bark(self):\n        return f\"{self.name} is barking.\"\n\n# \ud83d\udd39 Creating an object of the Dog class\ndog1 = Dog(\"Buddy\", 3)\nprint(dog1.bark())  # Output: Buddy is barking."
        },
        {
            "cell_type": "markdown",
            "metadata": {},
            "source": "\n## \ud83d\udd39 The `__init__` Method\n\nThe `__init__` method initializes an object's attributes.\n"
        },
        {
            "cell_type": "code",
            "execution_count": null,
            "metadata": {},
            "outputs": [],
            "source": "class Dog:\n    '''A simple class to represent a dog.'''\n    \n    def __init__(self, name, age):\n        self.name = name\n        self.age = age\n    \n    def bark(self):\n        return f\"{self.name} is barking.\"\n\n# \ud83d\udd39 Creating an object of the Dog class\ndog1 = Dog(\"Buddy\", 3)\nprint(dog1.bark())  # Output: Buddy is barking."
        },
        {
            "cell_type": "markdown",
            "metadata": {},
            "source": "\n## \ud83d\udd39 Instance Methods\n\nInstance methods are functions defined inside a class that operate on instances of the class.\n"
        },
        {
            "cell_type": "code",
            "execution_count": null,
            "metadata": {},
            "outputs": [],
            "source": "class Dog:\n    '''A simple class to represent a dog.'''\n    \n    def __init__(self, name, age):\n        self.name = name\n        self.age = age\n    \n    def bark(self):\n        return f\"{self.name} is barking.\"\n\n# \ud83d\udd39 Creating an object of the Dog class\ndog1 = Dog(\"Buddy\", 3)\nprint(dog1.bark())  # Output: Buddy is barking."
        },
        {
            "cell_type": "markdown",
            "metadata": {},
            "source": "\n## \ud83d\udd39 Class Methods and Static Methods\n\nClass methods are methods that are bound to the class and not the instance of the class. Static methods are methods that do not access or modify the state of the class or instance.\n"
        },
        {
            "cell_type": "code",
            "execution_count": null,
            "metadata": {},
            "outputs": [],
            "source": "class Dog:\n    '''A simple class to represent a dog.'''\n    \n    species = \"Canis familiaris\"\n    \n    def __init__(self, name, age):\n        self.name = name\n        self.age = age\n    \n    def bark(self):\n        return f\"{self.name} is barking.\"\n    \n    @classmethod\n    def get_species(cls):\n        return cls.species\n    \n    @staticmethod\n    def is_dog_older_than(dog, age):\n        return dog.age > age\n\n# \ud83d\udd39 Creating an object of the Dog class\ndog1 = Dog(\"Buddy\", 3)\n\n# \ud83d\udd39 Calling a class method\nprint(Dog.get_species())  # Output: Canis familiaris\n\n# \ud83d\udd39 Calling a static method\nprint(Dog.is_dog_older_than(dog1, 2))  # Output: True"
        },
        {
            "cell_type": "markdown",
            "metadata": {},
            "source": "\n## \ud83d\udd39 Inheritance\n\nInheritance allows one class to inherit attributes and methods from another class.\n"
        },
        {
            "cell_type": "code",
            "execution_count": null,
            "metadata": {},
            "outputs": [],
            "source": "class Animal:\n    '''A simple class to represent an animal.'''\n    \n    def __init__(self, name):\n        self.name = name\n    \n    def speak(self):\n        raise NotImplementedError(\"Subclasses must implement this method.\")\n\nclass Dog(Animal):\n    '''A simple class to represent a dog.'''\n    \n    def speak(self):\n        return f\"{self.name} says Woof!\"\n\nclass Cat(Animal):\n    '''A simple class to represent a cat.'''\n    \n    def speak(self):\n        return f\"{self.name} says Meow!\"\n\n# \ud83d\udd39 Creating objects of Dog and Cat classes\ndog1 = Dog(\"Buddy\")\ncat1 = Cat(\"Whiskers\")\n\nprint(dog1.speak())  # Output: Buddy says Woof!\nprint(cat1.speak())  # Output: Whiskers says Meow!"
        },
        {
            "cell_type": "markdown",
            "metadata": {},
            "source": "\n## \ud83d\udd39 Polymorphism\n\nPolymorphism allows methods to be used interchangeably between different classes.\n"
        },
        {
            "cell_type": "code",
            "execution_count": null,
            "metadata": {},
            "outputs": [],
            "source": "class Animal:\n    '''A simple class to represent an animal.'''\n    \n    def __init__(self, name):\n        self.name = name\n    \n    def speak(self):\n        raise NotImplementedError(\"Subclasses must implement this method.\")\n\nclass Dog(Animal):\n    '''A simple class to represent a dog.'''\n    \n    def speak(self):\n        return f\"{self.name} says Woof!\"\n\nclass Cat(Animal):\n    '''A simple class to represent a cat.'''\n    \n    def speak(self):\n        return f\"{self.name} says Meow!\"\n\ndef make_animal_speak(animal):\n    print(animal.speak())\n\n# \ud83d\udd39 Creating objects of Dog and Cat classes\ndog1 = Dog(\"Buddy\")\ncat1 = Cat(\"Whiskers\")\n\n# \ud83d\udd39 Using polymorphism\nmake_animal_speak(dog1)  # Output: Buddy says Woof!\nmake_animal_speak(cat1)  # Output: Whiskers says Meow!"
        },
        {
            "cell_type": "markdown",
            "metadata": {},
            "source": "\n## \ud83d\udd39 Encapsulation\n\nEncapsulation is the concept of restricting access to certain data and methods within a class.\n"
        },
        {
            "cell_type": "code",
            "execution_count": null,
            "metadata": {},
            "outputs": [],
            "source": "class Dog:\n    '''A simple class to represent a dog.'''\n    \n    def __init__(self, name, age):\n        self.__name = name\n        self.__age = age\n    \n    def get_name(self):\n        return self.__name\n    \n    def get_age(self):\n        return self.__age\n    \n    def set_age(self, age):\n        if age > 0:\n            self.__age = age\n\n# \ud83d\udd39 Creating an object of the Dog class\ndog1 = Dog(\"Buddy\", 3)\n\n# \ud83d\udd39 Accessing name and age using getter methods\nprint(dog1.get_name())  # Output: Buddy\nprint(dog1.get_age())  # Output: 3\n\n# \ud83d\udd39 Modifying age using setter method\ndog1.set_age(4)\nprint(dog1.get_age())  # Output: 4"
        },
        {
            "cell_type": "markdown",
            "metadata": {},
            "source": "\n## \ud83d\udd39 Conclusion\n\nClasses are a fundamental part of object-oriented programming in Python. Understanding how to define classes, create objects, and use concepts like inheritance, polymorphism, and encapsulation is essential for writing efficient and maintainable Python programs.\n\n### \ud83d\udd39 \ud83d\udce2 Stay Updated\n\nBe sure to \u2b50 this repository to stay updated with new examples and enhancements!\n\n### \ud83d\udd39 \ud83d\udcc4 License\n\ud83d\udd10 This project is protected under the [MIT License](https://mit-license.org/).\n\n### \ud83d\udd39 Contact \ud83d\udce7\nPanagiotis Moschos - pan.moschos86@gmail.com\n\n\ud83d\udd17 *Note: This is a Python script and requires a Python interpreter to run.*\n\n---\n<h1 align=center>Happy Coding \ud83d\udc68\u200d\ud83d\udcbb </h1>\n\n<p align=\"center\">\n  Made with \u2764\ufe0f by Panagiotis Moschos (https://github.com/pmoschos)\n</p>"
        }
    ],
    "metadata": {},
    "nbformat": 4,
    "nbformat_minor": 5
}