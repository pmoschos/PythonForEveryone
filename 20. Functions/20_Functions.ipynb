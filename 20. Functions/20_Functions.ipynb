{
    "cells": [
        {
            "cell_type": "markdown",
            "metadata": {},
            "source": "\n# 20 Python Functions \ud83d\udc0d\n\nThis document provides 20 Python functions, including their solutions and expected results.\n\n## Easy Functions\n\n### 1. \ud83d\udee0\ufe0f Create a Function\nWrite a function that returns \"Hello, World!\".\n"
        },
        {
            "cell_type": "code",
            "execution_count": null,
            "metadata": {},
            "outputs": [],
            "source": "def hello_world():\n    return \"Hello, World!\"\n\n# Test\nprint(hello_world())  # Output: \"Hello, World!\""
        },
        {
            "cell_type": "markdown",
            "metadata": {},
            "source": "\n### 2. \u2795 Add Two Numbers\nWrite a function to add two numbers.\n"
        },
        {
            "cell_type": "code",
            "execution_count": null,
            "metadata": {},
            "outputs": [],
            "source": "def add(a, b):\n    return a + b\n\n# Test\nprint(add(2, 3))  # Output: 5"
        },
        {
            "cell_type": "markdown",
            "metadata": {},
            "source": "\n### 3. \u2796 Subtract Two Numbers\nWrite a function to subtract two numbers.\n"
        },
        {
            "cell_type": "code",
            "execution_count": null,
            "metadata": {},
            "outputs": [],
            "source": "def subtract(a, b):\n    return a - b\n\n# Test\nprint(subtract(5, 3))  # Output: 2"
        },
        {
            "cell_type": "markdown",
            "metadata": {},
            "source": "\n### 4. \u2716\ufe0f Multiply Two Numbers\nWrite a function to multiply two numbers.\n"
        },
        {
            "cell_type": "code",
            "execution_count": null,
            "metadata": {},
            "outputs": [],
            "source": "def multiply(a, b):\n    return a * b\n\n# Test\nprint(multiply(2, 3))  # Output: 6"
        },
        {
            "cell_type": "markdown",
            "metadata": {},
            "source": "\n### 5. \u2797 Divide Two Numbers\nWrite a function to divide two numbers.\n"
        },
        {
            "cell_type": "code",
            "execution_count": null,
            "metadata": {},
            "outputs": [],
            "source": "def divide(a, b):\n    return a / b\n\n# Test\nprint(divide(6, 3))  # Output: 2.0"
        },
        {
            "cell_type": "markdown",
            "metadata": {},
            "source": "\n## Medium Functions\n\n### 6. \ud83d\udd04 Calculate Factorial\nWrite a function to calculate the factorial of a number.\n"
        },
        {
            "cell_type": "code",
            "execution_count": null,
            "metadata": {},
            "outputs": [],
            "source": "def factorial(n):\n    if n == 0:\n        return 1\n    else:\n        return n * factorial(n-1)\n\n# Test\nprint(factorial(5))  # Output: 120"
        },
        {
            "cell_type": "markdown",
            "metadata": {},
            "source": "\n### 7. \ud83d\udd04 Fibonacci Sequence\nWrite a function to generate the Fibonacci sequence up to n terms.\n"
        },
        {
            "cell_type": "code",
            "execution_count": null,
            "metadata": {},
            "outputs": [],
            "source": "def fibonacci(n):\n    sequence = [0, 1]\n    while len(sequence) < n:\n        sequence.append(sequence[-1] + sequence[-2])\n    return sequence\n\n# Test\nprint(fibonacci(5))  # Output: [0, 1, 1, 2, 3]"
        },
        {
            "cell_type": "markdown",
            "metadata": {},
            "source": "\n### 8. \ud83d\udd04 Check Prime\nWrite a function to check if a number is prime.\n"
        },
        {
            "cell_type": "code",
            "execution_count": null,
            "metadata": {},
            "outputs": [],
            "source": "def is_prime(n):\n    if n <= 1:\n        return False\n    for i in range(2, int(n**0.5) + 1):\n        if n % i == 0:\n            return False\n    return True\n\n# Test\nprint(is_prime(7))  # Output: True"
        },
        {
            "cell_type": "markdown",
            "metadata": {},
            "source": "\n### 9. \ud83d\udcd1 Find GCD\nWrite a function to find the greatest common divisor (GCD) of two numbers.\n"
        },
        {
            "cell_type": "code",
            "execution_count": null,
            "metadata": {},
            "outputs": [],
            "source": "def gcd(a, b):\n    while b:\n        a, b = b, a % b\n    return a\n\n# Test\nprint(gcd(48, 18))  # Output: 6"
        },
        {
            "cell_type": "markdown",
            "metadata": {},
            "source": "\n### 10. \ud83d\udd0d Find LCM\nWrite a function to find the least common multiple (LCM) of two numbers.\n"
        },
        {
            "cell_type": "code",
            "execution_count": null,
            "metadata": {},
            "outputs": [],
            "source": "def lcm(a, b):\n    return abs(a*b) // gcd(a, b)\n\n# Test\nprint(lcm(4, 5))  # Output: 20"
        },
        {
            "cell_type": "markdown",
            "metadata": {},
            "source": "\n### 11. \ud83d\udd04 Reverse String\nWrite a function to reverse a string.\n"
        },
        {
            "cell_type": "code",
            "execution_count": null,
            "metadata": {},
            "outputs": [],
            "source": "def reverse_string(s):\n    return s[::-1]\n\n# Test\nprint(reverse_string(\"hello\"))  # Output: \"olleh\""
        },
        {
            "cell_type": "markdown",
            "metadata": {},
            "source": "\n### 12. \ud83d\udd0d Count Vowels\nWrite a function to count the number of vowels in a string.\n"
        },
        {
            "cell_type": "code",
            "execution_count": null,
            "metadata": {},
            "outputs": [],
            "source": "def count_vowels(s):\n    return sum(1 for char in s if char.lower() in 'aeiou')\n\n# Test\nprint(count_vowels(\"hello\"))  # Output: 2"
        },
        {
            "cell_type": "markdown",
            "metadata": {},
            "source": "\n### 13. \ud83d\udd0d Check Palindrome\nWrite a function to check if a string is a palindrome.\n"
        },
        {
            "cell_type": "code",
            "execution_count": null,
            "metadata": {},
            "outputs": [],
            "source": "def is_palindrome(s):\n    return s == s[::-1]\n\n# Test\nprint(is_palindrome(\"racecar\"))  # Output: True"
        },
        {
            "cell_type": "markdown",
            "metadata": {},
            "source": "\n### 14. \ud83d\udd04 Convert to Uppercase\nWrite a function to convert a string to uppercase.\n"
        },
        {
            "cell_type": "code",
            "execution_count": null,
            "metadata": {},
            "outputs": [],
            "source": "def to_uppercase(s):\n    return s.upper()\n\n# Test\nprint(to_uppercase(\"hello\"))  # Output: \"HELLO\""
        },
        {
            "cell_type": "markdown",
            "metadata": {},
            "source": "\n### 15. \u274c Remove Duplicates\nWrite a function to remove duplicates from a list.\n"
        },
        {
            "cell_type": "code",
            "execution_count": null,
            "metadata": {},
            "outputs": [],
            "source": "def remove_duplicates(lst):\n    return list(set(lst))\n\n# Test\nprint(remove_duplicates([1, 2, 2, 3, 3, 3, 4]))  # Output: [1, 2, 3, 4]"
        },
        {
            "cell_type": "markdown",
            "metadata": {},
            "source": "\n### 16. \ud83d\udccf Find Length\nWrite a function to find the length of a list.\n"
        },
        {
            "cell_type": "code",
            "execution_count": null,
            "metadata": {},
            "outputs": [],
            "source": "def find_length(lst):\n    return len(lst)\n\n# Test\nprint(find_length([1, 2, 3, 4, 5]))  # Output: 5"
        },
        {
            "cell_type": "markdown",
            "metadata": {},
            "source": "\n### 17. \ud83d\udd0d Find Max\nWrite a function to find the maximum element in a list.\n"
        },
        {
            "cell_type": "code",
            "execution_count": null,
            "metadata": {},
            "outputs": [],
            "source": "def find_max(lst):\n    return max(lst)\n\n# Test\nprint(find_max([1, 2, 3, 4, 5]))  # Output: 5"
        },
        {
            "cell_type": "markdown",
            "metadata": {},
            "source": "\n### 18. \ud83d\udd0d Find Min\nWrite a function to find the minimum element in a list.\n"
        },
        {
            "cell_type": "code",
            "execution_count": null,
            "metadata": {},
            "outputs": [],
            "source": "def find_min(lst):\n    return min(lst)\n\n# Test\nprint(find_min([1, 2, 3, 4, 5]))  # Output: 1"
        },
        {
            "cell_type": "markdown",
            "metadata": {},
            "source": "\n### 19. \ud83d\udd04 List Comprehension\nWrite a function that returns a list of squares of the elements in a list.\n"
        },
        {
            "cell_type": "code",
            "execution_count": null,
            "metadata": {},
            "outputs": [],
            "source": "def list_comprehension(lst):\n    return [x ** 2 for x in lst]\n\n# Test\nprint(list_comprehension([1, 2, 3]))  # Output: [1, 4, 9]"
        },
        {
            "cell_type": "markdown",
            "metadata": {},
            "source": "\n### 20. \ud83d\udd0d Find Common Elements\nWrite a function to find common elements in multiple lists.\n"
        },
        {
            "cell_type": "code",
            "execution_count": null,
            "metadata": {},
            "outputs": [],
            "source": "def common_elements(*lists):\n    return set.intersection(*map(set, lists))\n\n# Test\nprint(common_elements([1, 2, 3], [2, 3, 4], [3, 4, 5]))  # Output: {3}"
        },
        {
            "cell_type": "markdown",
            "metadata": {},
            "source": "\n### \ud83d\udce2 Stay Updated\n\nBe sure to \u2b50 this repository to stay updated with new examples and enhancements!\n\n### \ud83d\udcc4 License\n\ud83d\udd10 This project is protected under the [MIT License](https://mit-license.org/).\n\n### Contact \ud83d\udce7\nPanagiotis Moschos - pan.moschos86@gmail.com\n\n\ud83d\udd17 *Note: This is a Python script and requires a Python interpreter to run.*\n\n---\n\n<h1 align=center>Happy Coding \ud83d\udc68\u200d\ud83d\udcbb </h1>\n\n<p align=\"center\">\n  Made with \u2764\ufe0f by Panagiotis Moschos (https://github.com/pmoschos)\n</p>"
        }
    ],
    "metadata": {},
    "nbformat": 4,
    "nbformat_minor": 5
}