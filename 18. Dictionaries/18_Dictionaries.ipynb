{
    "cells": [
        {
            "cell_type": "markdown",
            "metadata": {},
            "source": "\n# Dictionaries in Python \ud83d\udc0d\n\nDictionaries are unordered collections of key-value pairs. They are mutable and indexed by keys, which must be unique and immutable.\n\n## Why Use Dictionaries? \ud83e\udd14\n\n- **Key-Value Mapping**: Dictionaries provide a way to map unique keys to values.\n- **Efficient Lookup**: Dictionaries offer fast lookups, insertions, and deletions.\n- **Flexible Data Structure**: Dictionaries can store heterogeneous data types and nested structures.\n\n## \ud83d\udd24 Creating Dictionaries\n\nYou can create a dictionary by enclosing key-value pairs in curly braces `{}` or using the `dict()` function.\n"
        },
        {
            "cell_type": "code",
            "execution_count": null,
            "metadata": {},
            "outputs": [],
            "source": "# Empty dictionary\nempty_dict = {}\n\n# Dictionary with integer keys\nint_key_dict = {1: \"apple\", 2: \"banana\"}\n\n# Dictionary with string keys\nstr_key_dict = {\"name\": \"Alice\", \"age\": 25}\n\n# Mixed type dictionary\nmixed_dict = {1: \"apple\", \"name\": \"Alice\", 3.14: \"pi\"}\n\nprint(empty_dict)\nprint(int_key_dict)\nprint(str_key_dict)\nprint(mixed_dict)"
        },
        {
            "cell_type": "markdown",
            "metadata": {},
            "source": "\n## \ud83d\udd0d Accessing and Modifying Dictionary Elements\n\nYou can access and modify elements in a dictionary using keys.\n"
        },
        {
            "cell_type": "code",
            "execution_count": null,
            "metadata": {},
            "outputs": [],
            "source": "person = {\"name\": \"Alice\", \"age\": 25}\n\n# Accessing elements\nprint(person[\"name\"])  # Output: Alice\nprint(person.get(\"age\"))  # Output: 25\n\n# Modifying elements\nperson[\"age\"] = 26\nprint(person)  # Output: {'name': 'Alice', 'age': 26}\n\n# Adding new key-value pairs\nperson[\"city\"] = \"New York\"\nprint(person)  # Output: {'name': 'Alice', 'age': 26, 'city': 'New York'}"
        },
        {
            "cell_type": "markdown",
            "metadata": {},
            "source": "\n## \u2796 Removing Elements\n\nYou can remove elements from a dictionary using the `del` statement, `pop()`, and `popitem()` methods.\n"
        },
        {
            "cell_type": "code",
            "execution_count": null,
            "metadata": {},
            "outputs": [],
            "source": "person = {\"name\": \"Alice\", \"age\": 25, \"city\": \"New York\"}\n\n# Remove a specific element\ndel person[\"age\"]\nprint(person)  # Output: {'name': 'Alice', 'city': 'New York'}\n\n# Remove and return an element\ncity = person.pop(\"city\")\nprint(city)  # Output: New York\nprint(person)  # Output: {'name': 'Alice'}\n\n# Remove and return an arbitrary element\nitem = person.popitem()\nprint(item)  # Output: ('name', 'Alice')\nprint(person)  # Output: {}"
        },
        {
            "cell_type": "markdown",
            "metadata": {},
            "source": "\n## \ud83d\udee0\ufe0f Common Dictionary Methods\n\n### keys()\n\nReturns a view object containing the dictionary's keys.\n"
        },
        {
            "cell_type": "code",
            "execution_count": null,
            "metadata": {},
            "outputs": [],
            "source": "person = {\"name\": \"Alice\", \"age\": 25}\nprint(person.keys())  # Output: dict_keys(['name', 'age'])"
        },
        {
            "cell_type": "markdown",
            "metadata": {},
            "source": "\n### values()\n\nReturns a view object containing the dictionary's values.\n"
        },
        {
            "cell_type": "code",
            "execution_count": null,
            "metadata": {},
            "outputs": [],
            "source": "person = {\"name\": \"Alice\", \"age\": 25}\nprint(person.values())  # Output: dict_values(['Alice', 25])"
        },
        {
            "cell_type": "markdown",
            "metadata": {},
            "source": "\n### items()\n\nReturns a view object containing the dictionary's key-value pairs.\n"
        },
        {
            "cell_type": "code",
            "execution_count": null,
            "metadata": {},
            "outputs": [],
            "source": "person = {\"name\": \"Alice\", \"age\": 25}\nprint(person.items())  # Output: dict_items([('name', 'Alice'), ('age', 25)])"
        },
        {
            "cell_type": "markdown",
            "metadata": {},
            "source": "\n### update()\n\nUpdates the dictionary with elements from another dictionary or iterable of key-value pairs.\n"
        },
        {
            "cell_type": "code",
            "execution_count": null,
            "metadata": {},
            "outputs": [],
            "source": "person = {\"name\": \"Alice\", \"age\": 25}\nupdates = {\"age\": 26, \"city\": \"New York\"}\nperson.update(updates)\nprint(person)  # Output: {'name': 'Alice', 'age': 26, 'city': 'New York'}"
        },
        {
            "cell_type": "markdown",
            "metadata": {},
            "source": "\n### clear()\n\nRemoves all elements from the dictionary.\n"
        },
        {
            "cell_type": "code",
            "execution_count": null,
            "metadata": {},
            "outputs": [],
            "source": "person = {\"name\": \"Alice\", \"age\": 25}\nperson.clear()\nprint(person)  # Output: {}"
        },
        {
            "cell_type": "markdown",
            "metadata": {},
            "source": "\n## \ud83d\udca1 Practical Applications\n\n### \ud83d\udd04 Counting Frequency of Elements\n\nDictionaries are useful for counting the frequency of elements in a collection.\n"
        },
        {
            "cell_type": "code",
            "execution_count": null,
            "metadata": {},
            "outputs": [],
            "source": "sentence = \"apple banana apple strawberry banana apple\"\nwords = sentence.split()\nword_count = {}\n\nfor word in words:\n    if word in word_count:\n        word_count[word] += 1\n    else:\n        word_count[word] = 1\n\nprint(word_count)  # Output: {'apple': 3, 'banana': 2, 'strawberry': 1}"
        },
        {
            "cell_type": "markdown",
            "metadata": {},
            "source": "\n### \ud83d\udcda Storing Nested Data\n\nDictionaries can store nested data structures.\n"
        },
        {
            "cell_type": "code",
            "execution_count": null,
            "metadata": {},
            "outputs": [],
            "source": "student = {\n    \"name\": \"Alice\",\n    \"age\": 25,\n    \"courses\": {\n        \"math\": 90,\n        \"science\": 95\n    }\n}\n\nprint(student)  # Output: {'name': 'Alice', 'age': 25, 'courses': {'math': 90, 'science': 95}}"
        },
        {
            "cell_type": "markdown",
            "metadata": {},
            "source": "\n## \ud83d\udcdc Conclusion\n\nDictionaries are a powerful data structure for storing and managing key-value pairs. They provide efficient lookup, insertion, and deletion operations and are versatile for various applications, such as counting frequencies and storing nested data.\n\n### \ud83d\udce2 Stay Updated\n\nBe sure to \u2b50 this repository to stay updated with new examples and enhancements!\n\n### \ud83d\udcc4 License\n\ud83d\udd10 This project is protected under the [MIT License](https://mit-license.org/).\n\n### Contact \ud83d\udce7\nPanagiotis Moschos - pan.moschos86@gmail.com\n\n\ud83d\udd17 *Note: This is a Python script and requires a Python interpreter to run.*\n\n---\n\n<h1 align=center>Happy Coding \ud83d\udc68\u200d\ud83d\udcbb </h1>\n\n<p align=\"center\">\n  Made with \u2764\ufe0f by Panagiotis Moschos (https://github.com/pmoschos)\n</p>"
        }
    ],
    "metadata": {},
    "nbformat": 4,
    "nbformat_minor": 5
}