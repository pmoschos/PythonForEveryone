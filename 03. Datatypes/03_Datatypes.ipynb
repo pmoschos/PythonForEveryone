{
    "cells": [
        {
            "cell_type": "markdown",
            "metadata": {},
            "source": "\n# Data Types in Python \ud83d\udc0d\n\nPython supports various data types that are used to define the operations possible on them and the storage method for each of them.\n\n## Basic Data Types\n\n### 1. \ud83d\udd22 **Numeric Types**\n- **int**: Integer type, which includes whole numbers.\n- **float**: Floating-point number, which includes decimal numbers.\n- **complex**: Complex numbers, which include real and imaginary parts.\n"
        },
        {
            "cell_type": "code",
            "execution_count": null,
            "metadata": {},
            "outputs": [],
            "source": "# Examples of numeric types\na = 10       # int\nb = 3.14     # float\nc = 1 + 2j   # complex"
        },
        {
            "cell_type": "markdown",
            "metadata": {},
            "source": "\n### 2. \ud83d\udcda **Sequence Types**\n- **str**: String type, used for text.\n- **list**: List type, an ordered collection of items.\n- **tuple**: Tuple type, an ordered and immutable collection of items.\n"
        },
        {
            "cell_type": "code",
            "execution_count": null,
            "metadata": {},
            "outputs": [],
            "source": "# Examples of sequence types\ns = \"Hello, Python!\"   # str\nl = [1, 2, 3, 4, 5]    # list\nt = (1, 2, 3, 4, 5)    # tuple"
        },
        {
            "cell_type": "markdown",
            "metadata": {},
            "source": "\n### 3. \ud83d\udd11 **Mapping Type**\n- **dict**: Dictionary type, an unordered collection of key-value pairs.\n"
        },
        {
            "cell_type": "code",
            "execution_count": null,
            "metadata": {},
            "outputs": [],
            "source": "# Example of a mapping type\nd = {\"name\": \"Alice\", \"age\": 25, \"city\": \"New York\"}"
        },
        {
            "cell_type": "markdown",
            "metadata": {},
            "source": "\n### 4. \ud83d\udd04 **Set Types**\n- **set**: An unordered collection of unique items.\n- **frozenset**: An immutable version of a set.\n"
        },
        {
            "cell_type": "code",
            "execution_count": null,
            "metadata": {},
            "outputs": [],
            "source": "# Examples of set types\nset1 = {1, 2, 3, 4, 5}         # set\nfrozenset1 = frozenset({1, 2, 3, 4, 5})  # frozenset"
        },
        {
            "cell_type": "markdown",
            "metadata": {},
            "source": "\n### 5. \u2705 **Boolean Type**\n- **bool**: Represents Boolean values, `True` and `False`.\n"
        },
        {
            "cell_type": "code",
            "execution_count": null,
            "metadata": {},
            "outputs": [],
            "source": "# Example of boolean type\nis_valid = True"
        },
        {
            "cell_type": "markdown",
            "metadata": {},
            "source": "\n## Special Data Types\n\n### 1. \ud83d\udeab **None Type**\n- **NoneType**: Represents the absence of a value or a null value.\n"
        },
        {
            "cell_type": "code",
            "execution_count": null,
            "metadata": {},
            "outputs": [],
            "source": "# Example of None type\nx = None"
        },
        {
            "cell_type": "markdown",
            "metadata": {},
            "source": "\n### 2. \ud83d\udcbe **Bytes and Bytearray Types**\n- **bytes**: Immutable sequences of bytes.\n- **bytearray**: Mutable sequences of bytes.\n"
        },
        {
            "cell_type": "code",
            "execution_count": null,
            "metadata": {},
            "outputs": [],
            "source": "# Examples of bytes and bytearray types\nb = b\"Hello\"\nba = bytearray(b\"Hello\")"
        },
        {
            "cell_type": "markdown",
            "metadata": {},
            "source": "\n## \ud83d\udd04 Type Conversion\n\nPython provides built-in functions to convert between different data types.\n"
        },
        {
            "cell_type": "code",
            "execution_count": null,
            "metadata": {},
            "outputs": [],
            "source": "# Examples of type conversion\nnum_str = \"123\"\nnum_int = int(num_str)  # Converts string to integer\n\nflt_str = \"123.45\"\nflt_num = float(flt_str)  # Converts string to float\n\nnum_list = list(flt_str)  # Converts string to list"
        },
        {
            "cell_type": "markdown",
            "metadata": {},
            "source": "\n### \ud83d\udce2 Stay Updated\n\nBe sure to \u2b50 this repository to stay updated with new examples and enhancements!\n\n### \ud83d\udcc4 License\n\ud83d\udd10 This project is protected under the [MIT License](https://mit-license.org/).\n\n### Contact \ud83d\udce7\nPanagiotis Moschos - pan.moschos86@gmail.com\n\n\ud83d\udd17 *Note: This is a Python script and requires a Python interpreter to run.*\n\n---\n\n<h1 align=center>Happy Coding \ud83d\udc68\u200d\ud83d\udcbb </h1>\n\n<p align=\"center\">\n  Made with \u2764\ufe0f by Panagiotis Moschos (https://github.com/pmoschos)\n</p>"
        }
    ],
    "metadata": {},
    "nbformat": 4,
    "nbformat_minor": 5
}