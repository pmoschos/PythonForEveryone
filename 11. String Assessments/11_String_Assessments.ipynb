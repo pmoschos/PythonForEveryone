{
    "cells": [
        {
            "cell_type": "markdown",
            "metadata": {},
            "source": "\n# 11 String Assessments in Python \ud83d\udc0d\n\nThis document provides 21 string assessments in Python, ranging from easy to hard, including their solutions and expected results.\n\n## Easy Assessments\n\n### 1. \ud83d\udd04 Reverse a String\nWrite a function that reverses a given string.\n"
        },
        {
            "cell_type": "code",
            "execution_count": null,
            "metadata": {},
            "outputs": [],
            "source": "def reverse_string(s):\n    return s[::-1]\n\n# Test\nprint(reverse_string(\"hello\"))  # Output: \"olleh\""
        },
        {
            "cell_type": "markdown",
            "metadata": {},
            "source": "\n### 2. \ud83d\udd0d Check Palindrome\nWrite a function to check if a given string is a palindrome.\n"
        },
        {
            "cell_type": "code",
            "execution_count": null,
            "metadata": {},
            "outputs": [],
            "source": "def is_palindrome(s):\n    return s == s[::-1]\n\n# Test\nprint(is_palindrome(\"radar\"))  # Output: True\nprint(is_palindrome(\"hello\"))  # Output: False"
        },
        {
            "cell_type": "markdown",
            "metadata": {},
            "source": "\n### 3. \ud83c\udd70\ufe0f Count Vowels\nWrite a function that counts the number of vowels in a given string.\n"
        },
        {
            "cell_type": "code",
            "execution_count": null,
            "metadata": {},
            "outputs": [],
            "source": "def count_vowels(s):\n    vowels = \"aeiouAEIOU\"\n    return sum(1 for char in s if char in vowels)\n\n# Test\nprint(count_vowels(\"hello\"))  # Output: 2"
        },
        {
            "cell_type": "markdown",
            "metadata": {},
            "source": "\n### 4. \ud83d\udeab Remove Whitespace\nWrite a function to remove all whitespace from a string.\n"
        },
        {
            "cell_type": "code",
            "execution_count": null,
            "metadata": {},
            "outputs": [],
            "source": "def remove_whitespace(s):\n    return s.replace(\" \", \"\")\n\n# Test\nprint(remove_whitespace(\"hello world\"))  # Output: \"helloworld\""
        },
        {
            "cell_type": "markdown",
            "metadata": {},
            "source": "\n### 5. \ud83d\udccf Find the Length of a String\nWrite a function to find the length of a string.\n"
        },
        {
            "cell_type": "code",
            "execution_count": null,
            "metadata": {},
            "outputs": [],
            "source": "def string_length(s):\n    return len(s)\n\n# Test\nprint(string_length(\"hello\"))  # Output: 5"
        },
        {
            "cell_type": "markdown",
            "metadata": {},
            "source": "\n## Medium Assessments\n\n### 6. \ud83d\udd04 Replace Substring\nWrite a function to replace all occurrences of a substring with another substring.\n"
        },
        {
            "cell_type": "code",
            "execution_count": null,
            "metadata": {},
            "outputs": [],
            "source": "def replace_substring(s, old, new):\n    return s.replace(old, new)\n\n# Test\nprint(replace_substring(\"hello world\", \"world\", \"Python\"))  # Output: \"hello Python\""
        },
        {
            "cell_type": "markdown",
            "metadata": {},
            "source": "\n### 7. \ud83d\udd0d Find Substring\nWrite a function to find the index of the first occurrence of a substring.\n"
        },
        {
            "cell_type": "code",
            "execution_count": null,
            "metadata": {},
            "outputs": [],
            "source": "def find_substring(s, sub):\n    return s.find(sub)\n\n# Test\nprint(find_substring(\"hello world\", \"world\"))  # Output: 6"
        },
        {
            "cell_type": "markdown",
            "metadata": {},
            "source": "\n### 8. \ud83d\udcdd Count Words\nWrite a function to count the number of words in a string.\n"
        },
        {
            "cell_type": "code",
            "execution_count": null,
            "metadata": {},
            "outputs": [],
            "source": "def count_words(s):\n    return len(s.split())\n\n# Test\nprint(count_words(\"hello world\"))  # Output: 2"
        },
        {
            "cell_type": "markdown",
            "metadata": {},
            "source": "\n### 9. \ud83d\udd20 Convert to Uppercase\nWrite a function to convert a string to uppercase.\n"
        },
        {
            "cell_type": "code",
            "execution_count": null,
            "metadata": {},
            "outputs": [],
            "source": "def to_uppercase(s):\n    return s.upper()\n\n# Test\nprint(to_uppercase(\"hello\"))  # Output: \"HELLO\""
        },
        {
            "cell_type": "markdown",
            "metadata": {},
            "source": "\n### 10. \ud83d\udd21 Convert to Lowercase\nWrite a function to convert a string to lowercase.\n"
        },
        {
            "cell_type": "code",
            "execution_count": null,
            "metadata": {},
            "outputs": [],
            "source": "def to_lowercase(s):\n    return s.lower()\n\n# Test\nprint(to_lowercase(\"HELLO\"))  # Output: \"hello\""
        },
        {
            "cell_type": "markdown",
            "metadata": {},
            "source": "\n### 11. \ud83d\udd04 Swap Case\nWrite a function to swap the case of each character in a string.\n"
        },
        {
            "cell_type": "code",
            "execution_count": null,
            "metadata": {},
            "outputs": [],
            "source": "def swap_case(s):\n    return s.swapcase()\n\n# Test\nprint(swap_case(\"Hello World\"))  # Output: \"hELLO wORLD\""
        },
        {
            "cell_type": "markdown",
            "metadata": {},
            "source": "\n## Hard Assessments\n\n### 12. \ud83d\udcca Count Character Frequency\nWrite a function to count the frequency of each character in a string.\n"
        },
        {
            "cell_type": "code",
            "execution_count": null,
            "metadata": {},
            "outputs": [],
            "source": "def character_frequency(s):\n    freq = {}\n    for char in s:\n        if char in freq:\n            freq[char] += 1\n        else:\n            freq[char] = 1\n    return freq\n\n# Test\nprint(character_frequency(\"hello\"))  # Output: {'h': 1, 'e': 1, 'l': 2, 'o': 1}"
        },
        {
            "cell_type": "markdown",
            "metadata": {},
            "source": "\n### 13. \ud83d\udd00 Remove Duplicates\nWrite a function to remove duplicate characters from a string.\n"
        },
        {
            "cell_type": "code",
            "execution_count": null,
            "metadata": {},
            "outputs": [],
            "source": "def remove_duplicates(s):\n    return ''.join(sorted(set(s), key=s.index))\n\n# Test\nprint(remove_duplicates(\"hello\"))  # Output: \"helo\""
        },
        {
            "cell_type": "markdown",
            "metadata": {},
            "source": "\n### 14. \ud83d\udd22 Convert String to Integer\nWrite a function to convert a string to an integer.\n"
        },
        {
            "cell_type": "code",
            "execution_count": null,
            "metadata": {},
            "outputs": [],
            "source": "def string_to_integer(s):\n    try:\n        return int(s)\n    except ValueError:\n        return None\n\n# Test\nprint(string_to_integer(\"123\"))  # Output: 123\nprint(string_to_integer(\"hello\"))  # Output: None"
        },
        {
            "cell_type": "markdown",
            "metadata": {},
            "source": "\n### 15. \ud83d\udd24 Convert Integer to String\nWrite a function to convert an integer to a string.\n"
        },
        {
            "cell_type": "code",
            "execution_count": null,
            "metadata": {},
            "outputs": [],
            "source": "def integer_to_string(n):\n    return str(n)\n\n# Test\nprint(integer_to_string(123))  # Output: \"123\""
        },
        {
            "cell_type": "markdown",
            "metadata": {},
            "source": "\n### 16. \ud83d\udd04 Reverse Words\nWrite a function to reverse the order of words in a string.\n"
        },
        {
            "cell_type": "code",
            "execution_count": null,
            "metadata": {},
            "outputs": [],
            "source": "def reverse_words(s):\n    return ' '.join(s.split()[::-1])\n\n# Test\nprint(reverse_words(\"hello world\"))  # Output: \"world hello\""
        },
        {
            "cell_type": "markdown",
            "metadata": {},
            "source": "\n### 17. \ud83c\udfc6 Most Frequent Character\nWrite a function to find the most frequent character in a string.\n"
        },
        {
            "cell_type": "code",
            "execution_count": null,
            "metadata": {},
            "outputs": [],
            "source": "def most_frequent_character(s):\n    return max(s, key=s.count)\n\n# Test\nprint(most_frequent_character(\"banana\"))  # Output: \"a\""
        },
        {
            "cell_type": "markdown",
            "metadata": {},
            "source": "\n### 18. \ud83d\udd24 Check if a String is a Valid Identifier\nWrite a function to check if a string is a valid identifier in Python.\n"
        },
        {
            "cell_type": "code",
            "execution_count": null,
            "metadata": {},
            "outputs": [],
            "source": "def is_valid_identifier(s):\n    return s.isidentifier()\n\n# Test\nprint(is_valid_identifier(\"variable\"))  # Output: True\nprint(is_valid_identifier(\"123variable\"))  # Output: False"
        },
        {
            "cell_type": "markdown",
            "metadata": {},
            "source": "\n### 19. \ud83d\udc0d Convert CamelCase to Snake_case\nWrite a function to convert a CamelCase string to snake_case.\n"
        },
        {
            "cell_type": "code",
            "execution_count": null,
            "metadata": {},
            "outputs": [],
            "source": "import re\n\ndef camel_to_snake(s):\n    return re.sub(r'(?<!^)(?=[A-Z])', '_', s).lower()\n\n# Test\nprint(camel_to_snake(\"CamelCaseString\"))  # Output: \"camel_case_string\""
        },
        {
            "cell_type": "markdown",
            "metadata": {},
            "source": "\n### 20. \ud83d\udd04 Find All Permutations of a String\nWrite a function to find all permutations of a given string.\n"
        },
        {
            "cell_type": "code",
            "execution_count": null,
            "metadata": {},
            "outputs": [],
            "source": "from itertools import permutations\n\ndef all_permutations(s):\n    return [''.join(p) for p in permutations(s)]\n\n# Test\nprint(all_permutations(\"abc\"))  # Output: ['abc', 'acb', 'bac', 'bca', 'cab', 'cba']"
        },
        {
            "cell_type": "markdown",
            "metadata": {},
            "source": "\n### 21. \ud83d\udd20 Check if a String is a Pangram\nWrite a function to check if a string is a pangram (contains all the letters of the alphabet at least once).\n"
        },
        {
            "cell_type": "code",
            "execution_count": null,
            "metadata": {},
            "outputs": [],
            "source": "import string\n\ndef is_pangram(s):\n    return set(string.ascii_lowercase) <= set(s.lower())\n\n# Test\nprint(is_pangram(\"The quick brown fox jumps over the lazy dog\"))  # Output: True\nprint(is_pangram(\"Hello World\"))  # Output: False"
        },
        {
            "cell_type": "markdown",
            "metadata": {},
            "source": "\n### \ud83d\udce2 Stay Updated\n\nBe sure to \u2b50 this repository to stay updated with new examples and enhancements!\n\n### \ud83d\udcc4 License\n\ud83d\udd10 This project is protected under the [MIT License](https://mit-license.org/).\n\n### Contact \ud83d\udce7\nPanagiotis Moschos - pan.moschos86@gmail.com\n\n\ud83d\udd17 *Note: This is a Python script and requires a Python interpreter to run.*\n\n---\n\n<h1 align=center>Happy Coding \ud83d\udc68\u200d\ud83d\udcbb </h1>\n\n<p align=\"center\">\n  Made with \u2764\ufe0f by Panagiotis Moschos (https://github.com/pmoschos)\n</p>"
        }
    ],
    "metadata": {},
    "nbformat": 4,
    "nbformat_minor": 5
}