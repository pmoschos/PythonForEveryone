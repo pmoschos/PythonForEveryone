{
    "cells": [
        {
            "cell_type": "markdown",
            "metadata": {},
            "source": "\n# Control Flow Statements in Python \ud83d\udc0d\n\nControl flow statements are used to control the order in which instructions are executed in a program. Python supports several control flow statements.\n\n## \ud83d\udd0d Conditional Statements\n\n### 1. **if Statement**\nThe `if` statement is used to execute a block of code only if a specified condition is true.\n"
        },
        {
            "cell_type": "code",
            "execution_count": null,
            "metadata": {},
            "outputs": [],
            "source": "# Example of if statement\nage = 18\nif age >= 18:\n    print(\"You are an adult.\")"
        },
        {
            "cell_type": "markdown",
            "metadata": {},
            "source": "\n### 2. **if...else Statement**\nThe `if...else` statement is used to execute one block of code if a condition is true and another block if the condition is false.\n"
        },
        {
            "cell_type": "code",
            "execution_count": null,
            "metadata": {},
            "outputs": [],
            "source": "# Example of if...else statement\nage = 16\nif age >= 18:\n    print(\"You are an adult.\")\nelse:\n    print(\"You are a minor.\")"
        },
        {
            "cell_type": "markdown",
            "metadata": {},
            "source": "\n### 3. **if...elif...else Statement**\nThe `if...elif...else` statement is used to check multiple conditions.\n"
        },
        {
            "cell_type": "code",
            "execution_count": null,
            "metadata": {},
            "outputs": [],
            "source": "# Example of if...elif...else statement\nage = 20\nif age < 13:\n    print(\"You are a child.\")\nelif 13 <= age < 18:\n    print(\"You are a teenager.\")\nelse:\n    print(\"You are an adult.\")"
        },
        {
            "cell_type": "markdown",
            "metadata": {},
            "source": "\n## \ud83d\udd04 Looping Statements\n\n### 1. **for Loop**\nThe `for` loop is used to iterate over a sequence (such as a list, tuple, string, or range).\n"
        },
        {
            "cell_type": "code",
            "execution_count": null,
            "metadata": {},
            "outputs": [],
            "source": "# Example of for loop\nfor i in range(5):\n    print(i)"
        },
        {
            "cell_type": "markdown",
            "metadata": {},
            "source": "\n### 2. **while Loop**\nThe `while` loop is used to execute a block of code as long as a specified condition is true.\n"
        },
        {
            "cell_type": "code",
            "execution_count": null,
            "metadata": {},
            "outputs": [],
            "source": "# Example of while loop\ncount = 0\nwhile count < 5:\n    print(count)\n    count += 1"
        },
        {
            "cell_type": "markdown",
            "metadata": {},
            "source": "\n### 3. **Nested Loops**\nLoops can be nested inside other loops.\n"
        },
        {
            "cell_type": "code",
            "execution_count": null,
            "metadata": {},
            "outputs": [],
            "source": "# Example of nested loops\nfor i in range(3):\n    for j in range(3):\n        print(f\"i={i}, j={j}\")"
        },
        {
            "cell_type": "markdown",
            "metadata": {},
            "source": "\n## \ud83d\uded1 Loop Control Statements\n\n### 1. **break Statement**\nThe `break` statement is used to exit a loop prematurely.\n"
        },
        {
            "cell_type": "code",
            "execution_count": null,
            "metadata": {},
            "outputs": [],
            "source": "# Example of break statement\nfor i in range(5):\n    if i == 3:\n        break\n    print(i)"
        },
        {
            "cell_type": "markdown",
            "metadata": {},
            "source": "\n### 2. **continue Statement**\nThe `continue` statement is used to skip the current iteration of a loop and move to the next iteration.\n"
        },
        {
            "cell_type": "code",
            "execution_count": null,
            "metadata": {},
            "outputs": [],
            "source": "# Example of continue statement\nfor i in range(5):\n    if i == 3:\n        continue\n    print(i)"
        },
        {
            "cell_type": "markdown",
            "metadata": {},
            "source": "\n### 3. **pass Statement**\nThe `pass` statement is a null operation. It is used as a placeholder for future code.\n"
        },
        {
            "cell_type": "code",
            "execution_count": null,
            "metadata": {},
            "outputs": [],
            "source": "# Example of pass statement\nfor i in range(5):\n    if i == 3:\n        pass\n    print(i)"
        },
        {
            "cell_type": "markdown",
            "metadata": {},
            "source": "\n## \u26a0\ufe0f Exception Handling\n\n### 1. **try...except Statement**\nThe `try...except` statement is used to handle exceptions (errors) in a program.\n"
        },
        {
            "cell_type": "code",
            "execution_count": null,
            "metadata": {},
            "outputs": [],
            "source": "# Example of try...except statement\ntry:\n    result = 10 / 0\nexcept ZeroDivisionError:\n    print(\"Cannot divide by zero!\")"
        },
        {
            "cell_type": "markdown",
            "metadata": {},
            "source": "\n### 2. **try...except...finally Statement**\nThe `finally` block is used to execute code regardless of whether an exception occurs or not.\n"
        },
        {
            "cell_type": "code",
            "execution_count": null,
            "metadata": {},
            "outputs": [],
            "source": "# Example of try...except...finally statement\ntry:\n    result = 10 / 2\nexcept ZeroDivisionError:\n    print(\"Cannot divide by zero!\")\nfinally:\n    print(\"This will always be executed.\")"
        },
        {
            "cell_type": "markdown",
            "metadata": {},
            "source": "\n### 3. **try...except...else Statement**\nThe `else` block is executed if no exceptions are raised in the `try` block.\n"
        },
        {
            "cell_type": "code",
            "execution_count": null,
            "metadata": {},
            "outputs": [],
            "source": "# Example of try...except...else statement\ntry:\n    result = 10 / 2\nexcept ZeroDivisionError:\n    print(\"Cannot divide by zero!\")\nelse:\n    print(\"Division successful.\")"
        },
        {
            "cell_type": "markdown",
            "metadata": {},
            "source": "\n### \ud83d\udce2 Stay Updated\n\nBe sure to \u2b50 this repository to stay updated with new examples and enhancements!\n\n### \ud83d\udcc4 License\n\ud83d\udd10 This project is protected under the [MIT License](https://mit-license.org/).\n\n### Contact \ud83d\udce7\nPanagiotis Moschos - pan.moschos86@gmail.com\n\n\ud83d\udd17 *Note: This is a Python script and requires a Python interpreter to run.*\n\n---\n\n<h1 align=center>Happy Coding \ud83d\udc68\u200d\ud83d\udcbb </h1>\n\n<p align=\"center\">\n  Made with \u2764\ufe0f by Panagiotis Moschos (https://github.com/pmoschos)\n</p>"
        }
    ],
    "metadata": {},
    "nbformat": 4,
    "nbformat_minor": 5
}