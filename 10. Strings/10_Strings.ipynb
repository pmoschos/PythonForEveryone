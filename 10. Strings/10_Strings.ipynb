{
    "cells": [
        {
            "cell_type": "markdown",
            "metadata": {},
            "source": "\n# String Data Type in Python \ud83d\udc0d\n\nStrings are one of the most commonly used data types in Python. They are sequences of characters enclosed in quotes. Python supports single, double, and triple quotes for string creation.\n\n## \ud83d\udd24 Creating Strings\n"
        },
        {
            "cell_type": "code",
            "execution_count": null,
            "metadata": {},
            "outputs": [],
            "source": "# Single-quoted string\nstr1 = 'Hello, World!'\n\n# Double-quoted string\nstr2 = \"Hello, World!\"\n\n# Triple-quoted string (used for multi-line strings)\nstr3 = \"\"\"Hello,\nWorld!\"\"\"\n\nprint(str1)\nprint(str2)\nprint(str3)"
        },
        {
            "cell_type": "markdown",
            "metadata": {},
            "source": "\n## \ud83d\udd0d String Indexing and Slicing\n\nStrings can be indexed and sliced to access specific characters or substrings.\n"
        },
        {
            "cell_type": "code",
            "execution_count": null,
            "metadata": {},
            "outputs": [],
            "source": "str1 = 'Hello, World!'\n\n# Indexing\nprint(str1[0])   # Output: H\nprint(str1[-1])  # Output: !\n\n# Slicing\nprint(str1[0:5])  # Output: Hello\nprint(str1[7:])   # Output: World!\nprint(str1[:5])   # Output: Hello\nprint(str1[::2])  # Output: Hlo ol!"
        },
        {
            "cell_type": "markdown",
            "metadata": {},
            "source": "\n## \ud83d\udee0\ufe0f Common String Methods\n\n### 1. **len()**\nReturns the length of the string.\n"
        },
        {
            "cell_type": "code",
            "execution_count": null,
            "metadata": {},
            "outputs": [],
            "source": "str1 = 'Hello, World!'\nprint(len(str1))  # Output: 13"
        },
        {
            "cell_type": "markdown",
            "metadata": {},
            "source": "\n### 2. **str.lower()**\nConverts all characters in the string to lowercase.\n"
        },
        {
            "cell_type": "code",
            "execution_count": null,
            "metadata": {},
            "outputs": [],
            "source": "str1 = 'Hello, World!'\nprint(str1.lower())  # Output: hello, world!"
        },
        {
            "cell_type": "markdown",
            "metadata": {},
            "source": "\n### 3. **str.upper()**\nConverts all characters in the string to uppercase.\n"
        },
        {
            "cell_type": "code",
            "execution_count": null,
            "metadata": {},
            "outputs": [],
            "source": "str1 = 'Hello, World!'\nprint(str1.upper())  # Output: HELLO, WORLD!"
        },
        {
            "cell_type": "markdown",
            "metadata": {},
            "source": "\n### 4. **str.capitalize()**\nCapitalizes the first character of the string.\n"
        },
        {
            "cell_type": "code",
            "execution_count": null,
            "metadata": {},
            "outputs": [],
            "source": "str1 = 'hello, world!'\nprint(str1.capitalize())  # Output: Hello, world!"
        },
        {
            "cell_type": "markdown",
            "metadata": {},
            "source": "\n### 5. **str.title()**\nConverts the first character of each word to uppercase.\n"
        },
        {
            "cell_type": "code",
            "execution_count": null,
            "metadata": {},
            "outputs": [],
            "source": "str1 = 'hello, world!'\nprint(str1.title())  # Output: Hello, World!"
        },
        {
            "cell_type": "markdown",
            "metadata": {},
            "source": "\n### 6. **str.strip()**\nRemoves leading and trailing whitespace.\n"
        },
        {
            "cell_type": "code",
            "execution_count": null,
            "metadata": {},
            "outputs": [],
            "source": "str1 = '   Hello, World!   '\nprint(str1.strip())  # Output: Hello, World!"
        },
        {
            "cell_type": "markdown",
            "metadata": {},
            "source": "\n### 7. **str.replace(old, new)**\nReplaces all occurrences of a substring with another substring.\n"
        },
        {
            "cell_type": "code",
            "execution_count": null,
            "metadata": {},
            "outputs": [],
            "source": "str1 = 'Hello, World!'\nprint(str1.replace('World', 'Python'))  # Output: Hello, Python!"
        },
        {
            "cell_type": "markdown",
            "metadata": {},
            "source": "\n### 8. **str.split(separator)**\nSplits the string into a list of substrings based on a specified separator.\n"
        },
        {
            "cell_type": "code",
            "execution_count": null,
            "metadata": {},
            "outputs": [],
            "source": "str1 = 'Hello, World!'\nprint(str1.split(', '))  # Output: ['Hello', 'World!']"
        },
        {
            "cell_type": "markdown",
            "metadata": {},
            "source": "\n### 9. **str.join(iterable)**\nJoins the elements of an iterable (e.g., list) into a single string, separated by the string calling the method.\n"
        },
        {
            "cell_type": "code",
            "execution_count": null,
            "metadata": {},
            "outputs": [],
            "source": "list1 = ['Hello', 'World']\nprint(' '.join(list1))  # Output: Hello World"
        },
        {
            "cell_type": "markdown",
            "metadata": {},
            "source": "\n### 10. **str.find(substring)**\nReturns the index of the first occurrence of the substring, or -1 if not found.\n"
        },
        {
            "cell_type": "code",
            "execution_count": null,
            "metadata": {},
            "outputs": [],
            "source": "str1 = 'Hello, World!'\nprint(str1.find('World'))  # Output: 7"
        },
        {
            "cell_type": "markdown",
            "metadata": {},
            "source": "\n### 11. **str.count(substring)**\nReturns the number of occurrences of the substring.\n"
        },
        {
            "cell_type": "code",
            "execution_count": null,
            "metadata": {},
            "outputs": [],
            "source": "str1 = 'Hello, World!'\nprint(str1.count('o'))  # Output: 2"
        },
        {
            "cell_type": "markdown",
            "metadata": {},
            "source": "\n### 12. **str.startswith(prefix)**\nReturns `True` if the string starts with the specified prefix, otherwise `False`.\n"
        },
        {
            "cell_type": "code",
            "execution_count": null,
            "metadata": {},
            "outputs": [],
            "source": "str1 = 'Hello, World!'\nprint(str1.startswith('Hello'))  # Output: True"
        },
        {
            "cell_type": "markdown",
            "metadata": {},
            "source": "\n### 13. **str.endswith(suffix)**\nReturns `True` if the string ends with the specified suffix, otherwise `False`.\n"
        },
        {
            "cell_type": "code",
            "execution_count": null,
            "metadata": {},
            "outputs": [],
            "source": "str1 = 'Hello, World!'\nprint(str1.endswith('World!'))  # Output: True"
        },
        {
            "cell_type": "markdown",
            "metadata": {},
            "source": "\n### 14. **str.isalpha()**\nReturns `True` if all characters in the string are alphabetic, otherwise `False`.\n"
        },
        {
            "cell_type": "code",
            "execution_count": null,
            "metadata": {},
            "outputs": [],
            "source": "str1 = 'Hello'\nprint(str1.isalpha())  # Output: True"
        },
        {
            "cell_type": "markdown",
            "metadata": {},
            "source": "\n### 15. **str.isdigit()**\nReturns `True` if all characters in the string are digits, otherwise `False`.\n"
        },
        {
            "cell_type": "code",
            "execution_count": null,
            "metadata": {},
            "outputs": [],
            "source": "str1 = '12345'\nprint(str1.isdigit())  # Output: True"
        },
        {
            "cell_type": "markdown",
            "metadata": {},
            "source": "\n### 16. **str.isalnum()**\nReturns `True` if all characters in the string are alphanumeric, otherwise `False`.\n"
        },
        {
            "cell_type": "code",
            "execution_count": null,
            "metadata": {},
            "outputs": [],
            "source": "str1 = 'Hello123'\nprint(str1.isalnum())  # Output: True"
        },
        {
            "cell_type": "markdown",
            "metadata": {},
            "source": "\n## \ud83d\udcdd String Formatting\n\n### 1. **Using f-strings**\nIntroduced in Python 3.6, f-strings are a concise and convenient way to embed expressions inside string literals.\n"
        },
        {
            "cell_type": "code",
            "execution_count": null,
            "metadata": {},
            "outputs": [],
            "source": "name = 'Alice'\nage = 30\nprint(f'My name is {name} and I am {age} years old.')"
        },
        {
            "cell_type": "markdown",
            "metadata": {},
            "source": "\n### 2. **Using str.format()**\nThe `str.format()` method allows you to format strings with placeholders.\n"
        },
        {
            "cell_type": "code",
            "execution_count": null,
            "metadata": {},
            "outputs": [],
            "source": "name = 'Bob'\nage = 25\nprint('My name is {} and I am {} years old.'.format(name, age))"
        },
        {
            "cell_type": "markdown",
            "metadata": {},
            "source": "\n### 3. **Using % Operator**\nThe `%` operator can be used for string formatting similar to C-style string formatting.\n"
        },
        {
            "cell_type": "code",
            "execution_count": null,
            "metadata": {},
            "outputs": [],
            "source": "name = 'Charlie'\nage = 35\nprint('My name is %s and I am %d years old.' % (name, age))"
        },
        {
            "cell_type": "markdown",
            "metadata": {},
            "source": "\n### \ud83d\udce2 Stay Updated\n\nBe sure to \u2b50 this repository to stay updated with new examples and enhancements!\n\n### \ud83d\udcc4 License\n\ud83d\udd10 This project is protected under the [MIT License](https://mit-license.org/).\n\n### Contact \ud83d\udce7\nPanagiotis Moschos - pan.moschos86@gmail.com\n\n\ud83d\udd17 *Note: This is a Python script and requires a Python interpreter to run.*\n\n---\n\n<h1 align=center>Happy Coding \ud83d\udc68\u200d\ud83d\udcbb </h1>\n\n<p align=\"center\">\n  Made with \u2764\ufe0f by Panagiotis Moschos (https://github.com/pmoschos)\n</p>"
        }
    ],
    "metadata": {},
    "nbformat": 4,
    "nbformat_minor": 5
}