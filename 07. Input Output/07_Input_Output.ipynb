{
    "cells": [
        {
            "cell_type": "markdown",
            "metadata": {},
            "source": "\n# Input and Output Statements in Python \ud83d\udc0d\n\nInput and output (I/O) are essential for any programming language. Python provides several ways to perform input and output operations.\n\n## \u2328\ufe0f Input Statements\n\n### 1. **input() Function**\nThe `input()` function allows the user to take input from the keyboard as a string.\n"
        },
        {
            "cell_type": "code",
            "execution_count": null,
            "metadata": {},
            "outputs": [],
            "source": "# Example of input function\nname = input(\"Enter your name: \")\nprint(f\"Hello, {name}!\")"
        },
        {
            "cell_type": "markdown",
            "metadata": {},
            "source": "\n### 2. **Reading Numeric Input**\nTo read numeric input, you need to convert the input string to an appropriate numeric type.\n"
        },
        {
            "cell_type": "code",
            "execution_count": null,
            "metadata": {},
            "outputs": [],
            "source": "# Example of reading numeric input\nage = int(input(\"Enter your age: \"))\nprint(f\"You are {age} years old.\")"
        },
        {
            "cell_type": "markdown",
            "metadata": {},
            "source": "\n## \ud83d\udda5\ufe0f Output Statements\n\n### 1. **print() Function**\nThe `print()` function is used to output data to the standard output (screen).\n"
        },
        {
            "cell_type": "code",
            "execution_count": null,
            "metadata": {},
            "outputs": [],
            "source": "# Example of print function\nprint(\"Hello, World!\")"
        },
        {
            "cell_type": "markdown",
            "metadata": {},
            "source": "\n### 2. **Formatted String Literals (f-strings)**\nPython 3.6+ supports formatted string literals, also known as f-strings, to include expressions inside string literals.\n"
        },
        {
            "cell_type": "code",
            "execution_count": null,
            "metadata": {},
            "outputs": [],
            "source": "# Example of formatted string literals\nname = \"Alice\"\nage = 25\nprint(f\"My name is {name} and I am {age} years old.\")"
        },
        {
            "cell_type": "markdown",
            "metadata": {},
            "source": "\n### 3. **String Formatting with str.format()**\nThe `str.format()` method allows formatting strings using curly braces `{}` as placeholders.\n"
        },
        {
            "cell_type": "code",
            "execution_count": null,
            "metadata": {},
            "outputs": [],
            "source": "# Example of string formatting with str.format()\nname = \"Bob\"\nage = 30\nprint(\"My name is {} and I am {} years old.\".format(name, age))"
        },
        {
            "cell_type": "markdown",
            "metadata": {},
            "source": "\n### 4. **Old-style String Formatting with % Operator**\nThe `%` operator can be used for string formatting in a way similar to the C programming language.\n"
        },
        {
            "cell_type": "code",
            "execution_count": null,
            "metadata": {},
            "outputs": [],
            "source": "# Example of old-style string formatting with % operator\nname = \"Charlie\"\nage = 35\nprint(\"My name is %s and I am %d years old.\" % (name, age))"
        },
        {
            "cell_type": "markdown",
            "metadata": {},
            "source": "\n## \ud83d\uddc2\ufe0f File Input and Output\n\n### 1. **Opening a File**\nThe `open()` function is used to open a file in Python. It returns a file object and takes two arguments: the filename and the mode (`r`, `w`, `a`, `b`, etc.).\n"
        },
        {
            "cell_type": "code",
            "execution_count": null,
            "metadata": {},
            "outputs": [],
            "source": "# Example of opening a file\nfile = open(\"example.txt\", \"r\")"
        },
        {
            "cell_type": "markdown",
            "metadata": {},
            "source": "\n### 2. **Reading from a File**\nYou can read the content of a file using methods like `read()`, `readline()`, and `readlines()`.\n"
        },
        {
            "cell_type": "code",
            "execution_count": null,
            "metadata": {},
            "outputs": [],
            "source": "# Example of reading from a file\nwith open(\"example.txt\", \"r\") as file:\n    content = file.read()\n    print(content)"
        },
        {
            "cell_type": "markdown",
            "metadata": {},
            "source": "\n### 3. **Writing to a File**\nYou can write data to a file using the `write()` method.\n"
        },
        {
            "cell_type": "code",
            "execution_count": null,
            "metadata": {},
            "outputs": [],
            "source": "# Example of writing to a file\nwith open(\"example.txt\", \"w\") as file:\n    file.write(\"Hello, World!\")"
        },
        {
            "cell_type": "markdown",
            "metadata": {},
            "source": "\n### 4. **Appending to a File**\nYou can append data to an existing file using the `a` mode.\n"
        },
        {
            "cell_type": "code",
            "execution_count": null,
            "metadata": {},
            "outputs": [],
            "source": "# Example of appending to a file\nwith open(\"example.txt\", \"a\") as file:\n    file.write(\"Append this line.\")"
        },
        {
            "cell_type": "markdown",
            "metadata": {},
            "source": "\n### 5. **Closing a File**\nIt is a good practice to close a file after you are done with it using the `close()` method or the `with` statement.\n"
        },
        {
            "cell_type": "code",
            "execution_count": null,
            "metadata": {},
            "outputs": [],
            "source": "# Example of closing a file\nfile = open(\"example.txt\", \"r\")\ncontent = file.read()\nfile.close()"
        },
        {
            "cell_type": "markdown",
            "metadata": {},
            "source": "\n### \ud83d\udce2 Stay Updated\n\nBe sure to \u2b50 this repository to stay updated with new examples and enhancements!\n\n### \ud83d\udcc4 License\n\ud83d\udd10 This project is protected under the [MIT License](https://mit-license.org/).\n\n### Contact \ud83d\udce7\nPanagiotis Moschos - pan.moschos86@gmail.com\n\n\ud83d\udd17 *Note: This is a Python script and requires a Python interpreter to run.*\n\n---\n\n<h1 align=center>Happy Coding \ud83d\udc68\u200d\ud83d\udcbb </h1>\n\n<p align=\"center\">\n  Made with \u2764\ufe0f by Panagiotis Moschos (https://github.com/pmoschos)\n</p>"
        }
    ],
    "metadata": {},
    "nbformat": 4,
    "nbformat_minor": 5
}