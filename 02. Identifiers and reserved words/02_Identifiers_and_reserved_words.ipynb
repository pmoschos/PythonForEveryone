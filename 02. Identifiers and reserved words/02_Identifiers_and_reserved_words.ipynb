{
    "cells": [
        {
            "cell_type": "markdown",
            "metadata": {},
            "source": "\n# Identifiers and Reserved Words in Python \ud83d\udc0d\n\n## Identifiers in Python\n\nIdentifiers are names used to identify variables, functions, classes, modules, and other objects in Python. Here are some rules and conventions for Python identifiers:\n\n### 1. \ud83d\udccb **Naming Rules**:\n- Identifiers can be a combination of letters in lowercase (`a` to `z`) or uppercase (`A` to `Z`) or digits (`0` to `9`) or an underscore (`_`).\n- An identifier cannot start with a digit.\n- Python identifiers are case-sensitive (`Variable` and `variable` are different).\n- Reserved words (keywords) cannot be used as identifiers.\n\n### 2. \ud83d\udcdd **Best Practices**:\n- Use meaningful names to make the code more readable.\n- Use underscores to separate words in a variable name (snake_case).\n- For class names, use CamelCase (e.g., `MyClass`).\n- Constants are usually written in all uppercase letters with underscores separating words (e.g., `MAX_SIZE`).\n"
        },
        {
            "cell_type": "code",
            "execution_count": null,
            "metadata": {},
            "outputs": [],
            "source": "# Valid Identifiers\nmy_variable = 10\nMyVariable = 20\nmy_variable_2 = 30\n\n# Invalid Identifiers\n2variable = 40  # Cannot start with a digit\nmy-variable = 50  # Hyphens are not allowed"
        },
        {
            "cell_type": "markdown",
            "metadata": {},
            "source": "\n## Reserved Words in Python\n\nPython has a set of reserved words or keywords that have special meanings and cannot be used as identifiers. Here is a list of the reserved words in Python:\n"
        },
        {
            "cell_type": "code",
            "execution_count": null,
            "metadata": {},
            "outputs": [],
            "source": "['False', 'None', 'True', 'and', 'as', 'assert', 'async', 'await', 'break', 'class', 'continue', 'def', 'del', 'elif', 'else', 'except', 'finally', 'for', 'from', 'global', 'if', 'import', 'in', 'is', 'lambda', 'nonlocal', 'not', 'or', 'pass', 'raise', 'return', 'try', 'while', 'with', 'yield']"
        },
        {
            "cell_type": "markdown",
            "metadata": {},
            "source": "\n### Usage Examples\n"
        },
        {
            "cell_type": "code",
            "execution_count": null,
            "metadata": {},
            "outputs": [],
            "source": "# Using reserved words in context\ndef example_function():\n    try:\n        for i in range(5):\n            if i % 2 == 0:\n                print(f\"{i} is even\")\n            else:\n                print(f\"{i} is odd\")\n    except Exception as e:\n        print(f\"An error occurred: {e}\")\n\nexample_function()"
        },
        {
            "cell_type": "markdown",
            "metadata": {},
            "source": "\n### \ud83d\udce2 Stay Updated\n\nBe sure to \u2b50 this repository to stay updated with new examples and enhancements!\n\n### \ud83d\udcc4 License\n\ud83d\udd10 This project is protected under the [MIT License](https://mit-license.org/).\n\n### Contact \ud83d\udce7\nPanagiotis Moschos - pan.moschos86@gmail.com\n\n\ud83d\udd17 *Note: This is a Python script and requires a Python interpreter to run.*\n\n---\n\n<h1 align=center>Happy Coding \ud83d\udc68\u200d\ud83d\udcbb </h1>\n\n<p align=\"center\">\n  Made with \u2764\ufe0f by Panagiotis Moschos (https://github.com/pmoschos)\n</p>"
        }
    ],
    "metadata": {},
    "nbformat": 4,
    "nbformat_minor": 5
}