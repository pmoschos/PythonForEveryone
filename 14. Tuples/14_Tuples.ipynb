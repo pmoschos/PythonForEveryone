{
    "cells": [
        {
            "cell_type": "markdown",
            "metadata": {},
            "source": "\n# Tuples in Python \ud83d\udc0d\n\nTuples are another commonly used data type in Python. They are immutable, ordered collections of items that can be of different types.\n\n## Why Use Tuples? \ud83e\udd14\n\n- **Immutability**: Tuples cannot be changed after creation, which makes them useful for fixed collections of items.\n- **Efficiency**: Tuples are generally more memory efficient than lists.\n- **Hashable**: Tuples can be used as keys in dictionaries because they are immutable and hashable.\n\n## \ud83d\udd24 Creating Tuples\n\nYou can create a tuple by enclosing items in parentheses `()`.\n"
        },
        {
            "cell_type": "code",
            "execution_count": null,
            "metadata": {},
            "outputs": [],
            "source": "# Empty tuple\nempty_tuple = ()\n\n# Tuple of integers\nint_tuple = (1, 2, 3, 4, 5)\n\n# Tuple of strings\nstr_tuple = (\"apple\", \"banana\", \"cherry\")\n\n# Mixed type tuple\nmixed_tuple = (1, \"hello\", 3.14, True)\n\nprint(empty_tuple)\nprint(int_tuple)\nprint(str_tuple)\nprint(mixed_tuple)"
        },
        {
            "cell_type": "markdown",
            "metadata": {},
            "source": "\n## \ud83d\udd0d Accessing Tuple Elements\n\nYou can access elements in a tuple by their index. Python uses zero-based indexing.\n"
        },
        {
            "cell_type": "code",
            "execution_count": null,
            "metadata": {},
            "outputs": [],
            "source": "fruits = (\"apple\", \"banana\", \"cherry\")\n\n# Accessing the first element\nprint(fruits[0])  # Output: apple\n\n# Accessing the last element\nprint(fruits[-1])  # Output: cherry\n\n# Accessing a slice of the tuple\nprint(fruits[1:3])  # Output: ('banana', 'cherry')"
        },
        {
            "cell_type": "markdown",
            "metadata": {},
            "source": "\n## \ud83d\udee0\ufe0f Tuple Operations\n\n### \u2795 Concatenation\n\nYou can concatenate tuples using the `+` operator.\n"
        },
        {
            "cell_type": "code",
            "execution_count": null,
            "metadata": {},
            "outputs": [],
            "source": "tuple1 = (1, 2, 3)\ntuple2 = (4, 5, 6)\nconcatenated_tuple = tuple1 + tuple2\nprint(concatenated_tuple)  # Output: (1, 2, 3, 4, 5, 6)"
        },
        {
            "cell_type": "markdown",
            "metadata": {},
            "source": "\n### \u2716\ufe0f Repetition\n\nYou can repeat a tuple using the `*` operator.\n"
        },
        {
            "cell_type": "code",
            "execution_count": null,
            "metadata": {},
            "outputs": [],
            "source": "tuple1 = (1, 2, 3)\nrepeated_tuple = tuple1 * 3\nprint(repeated_tuple)  # Output: (1, 2, 3, 1, 2, 3, 1, 2, 3)"
        },
        {
            "cell_type": "markdown",
            "metadata": {},
            "source": "\n## \ud83d\udca1 Practical Applications\n\n### \ud83d\udd04 Returning Multiple Values from a Function\n\nTuples are often used to return multiple values from a function.\n"
        },
        {
            "cell_type": "code",
            "execution_count": null,
            "metadata": {},
            "outputs": [],
            "source": "def get_student_info():\n    name = \"Alice\"\n    age = 20\n    grade = \"A\"\n    return (name, age, grade)\n\ninfo = get_student_info()\nprint(info)  # Output: ('Alice', 20, 'A')"
        },
        {
            "cell_type": "markdown",
            "metadata": {},
            "source": "\n### \ud83d\udd11 Using Tuples as Dictionary Keys\n\nBecause tuples are immutable, they can be used as keys in dictionaries.\n"
        },
        {
            "cell_type": "code",
            "execution_count": null,
            "metadata": {},
            "outputs": [],
            "source": "locations = {\n    (40.7128, 74.0060): \"New York\",\n    (34.0522, 118.2437): \"Los Angeles\",\n    (37.7749, 122.4194): \"San Francisco\"\n}\n\nprint(locations)"
        },
        {
            "cell_type": "markdown",
            "metadata": {},
            "source": "\n## \ud83d\udd12 Immutability\n\nTuples are immutable, which means you cannot modify their elements after creation.\n"
        },
        {
            "cell_type": "code",
            "execution_count": null,
            "metadata": {},
            "outputs": [],
            "source": "fruits = (\"apple\", \"banana\", \"cherry\")\n\n# Trying to modify an element will raise an error\n# fruits[0] = \"orange\"  # TypeError: 'tuple' object does not support item assignment"
        },
        {
            "cell_type": "markdown",
            "metadata": {},
            "source": "\n## \ud83d\udcdd Tuple Methods\n\nTuples support only a few methods because of their immutability.\n\n### Count\n\nReturns the number of times a specified value occurs in a tuple.\n"
        },
        {
            "cell_type": "code",
            "execution_count": null,
            "metadata": {},
            "outputs": [],
            "source": "numbers = (1, 2, 3, 2, 2, 4)\ncount_of_twos = numbers.count(2)\nprint(count_of_twos)  # Output: 3"
        },
        {
            "cell_type": "markdown",
            "metadata": {},
            "source": "\n### Index\n\nReturns the index of the first occurrence of a specified value.\n"
        },
        {
            "cell_type": "code",
            "execution_count": null,
            "metadata": {},
            "outputs": [],
            "source": "numbers = (1, 2, 3, 4, 2, 5)\nindex_of_two = numbers.index(2)\nprint(index_of_two)  # Output: 1"
        },
        {
            "cell_type": "markdown",
            "metadata": {},
            "source": "\n## \ud83d\udcdc Conclusion\n\nTuples are a useful data type for storing ordered, immutable collections of items. Their immutability provides data integrity and can be useful in various programming scenarios where a fixed collection of items is required. They are memory efficient and can be used as dictionary keys, making them versatile in different applications.\n\n### \ud83d\udce2 Stay Updated\n\nBe sure to \u2b50 this repository to stay updated with new examples and enhancements!\n\n### \ud83d\udcc4 License\n\ud83d\udd10 This project is protected under the [MIT License](https://mit-license.org/).\n\n### Contact \ud83d\udce7\nPanagiotis Moschos - pan.moschos86@gmail.com\n\n\ud83d\udd17 *Note: This is a Python script and requires a Python interpreter to run.*\n\n---\n\n<h1 align=center>Happy Coding \ud83d\udc68\u200d\ud83d\udcbb </h1>\n\n<p align=\"center\">\n  Made with \u2764\ufe0f by Panagiotis Moschos (https://github.com/pmoschos)\n</p>"
        }
    ],
    "metadata": {},
    "nbformat": 4,
    "nbformat_minor": 5
}