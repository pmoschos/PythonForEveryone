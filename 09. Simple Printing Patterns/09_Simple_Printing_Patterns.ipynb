{
    "cells": [
        {
            "cell_type": "markdown",
            "metadata": {},
            "source": "\n# Simple Printing Patterns in Python \ud83d\udc0d\n\nPrinting patterns is a common exercise to understand loops and iterations in Python. Here are some simple examples of printing patterns using loops.\n\n## 1. \u2b1b Printing a Square Pattern\n"
        },
        {
            "cell_type": "code",
            "execution_count": null,
            "metadata": {},
            "outputs": [],
            "source": "# Example of printing a square pattern\nn = 5\nfor i in range(n):\n    for j in range(n):\n        print(\"*\", end=\" \")\n    print()"
        },
        {
            "cell_type": "markdown",
            "metadata": {},
            "source": ""
        },
        {
            "cell_type": "code",
            "execution_count": null,
            "metadata": {},
            "outputs": [],
            "source": "Output:\n* * * * *\n* * * * *\n* * * * *\n* * * * *\n* * * * *"
        },
        {
            "cell_type": "markdown",
            "metadata": {},
            "source": "\n## 2. \ud83d\udd3c Printing a Right-Angled Triangle Pattern\n"
        },
        {
            "cell_type": "code",
            "execution_count": null,
            "metadata": {},
            "outputs": [],
            "source": "# Example of printing a right-angled triangle pattern\nn = 5\nfor i in range(1, n + 1):\n    for j in range(i):\n        print(\"*\", end=\" \")\n    print()"
        },
        {
            "cell_type": "markdown",
            "metadata": {},
            "source": ""
        },
        {
            "cell_type": "code",
            "execution_count": null,
            "metadata": {},
            "outputs": [],
            "source": "Output:\n*\n* *\n* * *\n* * * *\n* * * * *"
        },
        {
            "cell_type": "markdown",
            "metadata": {},
            "source": "\n## 3. \ud83d\udd3d Printing an Inverted Right-Angled Triangle Pattern\n"
        },
        {
            "cell_type": "code",
            "execution_count": null,
            "metadata": {},
            "outputs": [],
            "source": "# Example of printing an inverted right-angled triangle pattern\nn = 5\nfor i in range(n, 0, -1):\n    for j in range(i):\n        print(\"*\", end=\" \")\n    print()"
        },
        {
            "cell_type": "markdown",
            "metadata": {},
            "source": ""
        },
        {
            "cell_type": "code",
            "execution_count": null,
            "metadata": {},
            "outputs": [],
            "source": "Output:\n* * * * *\n* * * *\n* * *\n* *\n*"
        },
        {
            "cell_type": "markdown",
            "metadata": {},
            "source": "\n## 4. \u26f0\ufe0f Printing a Pyramid Pattern\n"
        },
        {
            "cell_type": "code",
            "execution_count": null,
            "metadata": {},
            "outputs": [],
            "source": "# Example of printing a pyramid pattern\nn = 5\nfor i in range(n):\n    print(' ' * (n - i - 1) + '* ' * (i + 1))"
        },
        {
            "cell_type": "markdown",
            "metadata": {},
            "source": ""
        },
        {
            "cell_type": "code",
            "execution_count": null,
            "metadata": {},
            "outputs": [],
            "source": "Output:\n    *\n   * *\n  * * *\n * * * *\n* * * * *"
        },
        {
            "cell_type": "markdown",
            "metadata": {},
            "source": "\n## 5. \u26f0\ufe0f Printing an Inverted Pyramid Pattern\n"
        },
        {
            "cell_type": "code",
            "execution_count": null,
            "metadata": {},
            "outputs": [],
            "source": "# Example of printing an inverted pyramid pattern\nn = 5\nfor i in range(n, 0, -1):\n    print(' ' * (n - i) + '* ' * i)"
        },
        {
            "cell_type": "markdown",
            "metadata": {},
            "source": ""
        },
        {
            "cell_type": "code",
            "execution_count": null,
            "metadata": {},
            "outputs": [],
            "source": "Output:\n* * * * *\n * * * *\n  * * *\n   * *\n    *"
        },
        {
            "cell_type": "markdown",
            "metadata": {},
            "source": "\n## 6. \ud83d\udd37 Printing a Diamond Pattern\n"
        },
        {
            "cell_type": "code",
            "execution_count": null,
            "metadata": {},
            "outputs": [],
            "source": "# Example of printing a diamond pattern\nn = 5\nfor i in range(n):\n    print(' ' * (n - i - 1) + '* ' * (i + 1))\nfor i in range(n-1, 0, -1):\n    print(' ' * (n - i) + '* ' * i)"
        },
        {
            "cell_type": "markdown",
            "metadata": {},
            "source": ""
        },
        {
            "cell_type": "code",
            "execution_count": null,
            "metadata": {},
            "outputs": [],
            "source": "Output:\n    *\n   * *\n  * * *\n * * * *\n* * * * *\n * * * *\n  * * *\n   * *\n    *"
        },
        {
            "cell_type": "markdown",
            "metadata": {},
            "source": "\n### \ud83d\udce2 Stay Updated\n\nBe sure to \u2b50 this repository to stay updated with new examples and enhancements!\n\n### \ud83d\udcc4 License\n\ud83d\udd10 This project is protected under the [MIT License](https://mit-license.org/).\n\n### Contact \ud83d\udce7\nPanagiotis Moschos - pan.moschos86@gmail.com\n\n\ud83d\udd17 *Note: This is a Python script and requires a Python interpreter to run.*\n\n---\n\n<h1 align=center>Happy Coding \ud83d\udc68\u200d\ud83d\udcbb </h1>\n\n<p align=\"center\">\n  Made with \u2764\ufe0f by Panagiotis Moschos (https://github.com/pmoschos)\n</p>"
        }
    ],
    "metadata": {},
    "nbformat": 4,
    "nbformat_minor": 5
}