{
    "cells": [
        {
            "cell_type": "markdown",
            "metadata": {},
            "source": "\n# Operators in Python \ud83d\udc0d\n\nOperators are special symbols in Python that perform operations on variables and values. Python supports a variety of operators, which are categorized as follows:\n\n## \u2795 Arithmetic Operators\n\nArithmetic operators are used to perform mathematical operations.\n\n| Operator | Description           | Example       |\n|----------|-----------------------|---------------|\n| +        | Addition              | a + b         |\n| -        | Subtraction           | a - b         |\n| *        | Multiplication        | a * b         |\n| /        | Division              | a / b         |\n| %        | Modulus               | a % b         |\n| **       | Exponentiation        | a ** b        |\n| //       | Floor Division        | a // b        |\n"
        },
        {
            "cell_type": "code",
            "execution_count": null,
            "metadata": {},
            "outputs": [],
            "source": "a = 10\nb = 3\n\nprint(a + b)  # Output: 13\nprint(a - b)  # Output: 7\nprint(a * b)  # Output: 30\nprint(a / b)  # Output: 3.3333333333333335\nprint(a % b)  # Output: 1\nprint(a ** b) # Output: 1000\nprint(a // b) # Output: 3"
        },
        {
            "cell_type": "markdown",
            "metadata": {},
            "source": "\n## \u2696\ufe0f Comparison Operators\n\nComparison operators are used to compare two values.\n\n| Operator | Description             | Example     |\n|----------|-------------------------|-------------|\n| ==       | Equal to                | a == b      |\n| !=       | Not equal to            | a != b      |\n| >        | Greater than            | a > b       |\n| <        | Less than               | a < b       |\n| >=       | Greater than or equal to| a >= b      |\n| <=       | Less than or equal to   | a <= b      |\n"
        },
        {
            "cell_type": "code",
            "execution_count": null,
            "metadata": {},
            "outputs": [],
            "source": "a = 10\nb = 3\n\nprint(a == b)  # Output: False\nprint(a != b)  # Output: True\nprint(a > b)   # Output: True\nprint(a < b)   # Output: False\nprint(a >= b)  # Output: True\nprint(a <= b)  # Output: False"
        },
        {
            "cell_type": "markdown",
            "metadata": {},
            "source": "\n## \ud83d\udd04 Logical Operators\n\nLogical operators are used to combine conditional statements.\n\n| Operator | Description  | Example           |\n|----------|--------------|-------------------|\n| and      | Logical AND  | a and b           |\n| or       | Logical OR   | a or b            |\n| not      | Logical NOT  | not a             |\n"
        },
        {
            "cell_type": "code",
            "execution_count": null,
            "metadata": {},
            "outputs": [],
            "source": "a = True\nb = False\n\nprint(a and b)  # Output: False\nprint(a or b)   # Output: True\nprint(not a)    # Output: False"
        },
        {
            "cell_type": "markdown",
            "metadata": {},
            "source": "\n## \ud83d\udee0\ufe0f Bitwise Operators\n\nBitwise operators are used to perform bit-level operations.\n\n| Operator | Description              | Example       |\n|----------|--------------------------|---------------|\n| &        | Bitwise AND              | a & b         |\n| \\|       | Bitwise OR               | a \\| b        |\n| ^        | Bitwise XOR              | a ^ b         |\n| ~        | Bitwise NOT              | ~a            |\n| <<       | Bitwise left shift       | a << b        |\n| >>       | Bitwise right shift      | a >> b        |\n"
        },
        {
            "cell_type": "code",
            "execution_count": null,
            "metadata": {},
            "outputs": [],
            "source": "a = 10  # 1010 in binary\nb = 4   # 0100 in binary\n\nprint(a & b)  # Output: 0\nprint(a | b)  # Output: 14\nprint(a ^ b)  # Output: 14\nprint(~a)     # Output: -11\nprint(a << 1) # Output: 20\nprint(a >> 1) # Output: 5"
        },
        {
            "cell_type": "markdown",
            "metadata": {},
            "source": "\n## \ud83d\udcdd Assignment Operators\n\nAssignment operators are used to assign values to variables.\n\n| Operator | Description                | Example       |\n|----------|----------------------------|---------------|\n| =        | Assign                     | a = 5         |\n| +=       | Add and assign             | a += 5        |\n| -=       | Subtract and assign        | a -= 5        |\n| *=       | Multiply and assign        | a *= 5        |\n| /=       | Divide and assign          | a /= 5        |\n| %=       | Modulus and assign         | a %= 5        |\n| //=      | Floor divide and assign    | a //= 5       |\n| **=      | Exponentiate and assign    | a **= 5       |\n| &=       | Bitwise AND and assign     | a &= 5        |\n| \\|=      | Bitwise OR and assign      | a \\|= 5       |\n| ^=       | Bitwise XOR and assign     | a ^= 5        |\n| >>=      | Bitwise right shift and assign | a >>= 5   |\n| <<=      | Bitwise left shift and assign  | a <<= 5   |\n"
        },
        {
            "cell_type": "code",
            "execution_count": null,
            "metadata": {},
            "outputs": [],
            "source": "a = 10\nb = 3\n\na += b  # Equivalent to a = a + b\nprint(a)  # Output: 13\n\na -= b  # Equivalent to a = a - b\nprint(a)  # Output: 10\n\na *= b  # Equivalent to a = a * b\nprint(a)  # Output: 30\n\na /= b  # Equivalent to a = a / b\nprint(a)  # Output: 10.0\n\na %= b  # Equivalent to a = a % b\nprint(a)  # Output: 1.0\n\na //= b  # Equivalent to a = a // b\nprint(a)  # Output: 0.0\n\na **= b  # Equivalent to a = a ** b\nprint(a)  # Output: 0.0\n\na &= b  # Equivalent to a = a & b\nprint(a)  # Output: 0.0\n\na |= b  # Equivalent to a = a | b\nprint(a)  # Output: 0.0\n\na ^= b  # Equivalent to a = a ^ b\nprint(a)  # Output: 0.0\n\na = 10\na >>= b  # Equivalent to a = a >> b\nprint(a)  # Output: 1\n\na <<= b  # Equivalent to a = a << b\nprint(a)  # Output: 8"
        },
        {
            "cell_type": "markdown",
            "metadata": {},
            "source": "\n## \ud83d\udd0d Membership Operators\n\nMembership operators are used to test if a sequence is presented in an object.\n\n| Operator | Description     | Example     |\n|----------|-----------------|-------------|\n| in       | Returns True if a sequence with the specified value is present in the object | a in b  |\n| not in   | Returns True if a sequence with the specified value is not present in the object | a not in b |\n"
        },
        {
            "cell_type": "code",
            "execution_count": null,
            "metadata": {},
            "outputs": [],
            "source": "a = [1, 2, 3, 4, 5]\nprint(3 in a)     # Output: True\nprint(6 not in a) # Output: True"
        },
        {
            "cell_type": "markdown",
            "metadata": {},
            "source": "\n## \ud83c\udd94 Identity Operators\n\nIdentity operators are used to compare the objects, not if they are equal, but if they are actually the same object, with the same memory location.\n\n| Operator | Description     | Example     |\n|----------|-----------------|-------------|\n| is       | Returns True if both variables are the same object | a is b  |\n| is not   | Returns True if both variables are not the same object | a is not b |\n"
        },
        {
            "cell_type": "code",
            "execution_count": null,
            "metadata": {},
            "outputs": [],
            "source": "a = [1, 2, 3]\nb = [1, 2, 3]\nc = a\n\nprint(a is b)     # Output: False\nprint(a is c)     # Output: True\nprint(a is not b) # Output: True"
        },
        {
            "cell_type": "markdown",
            "metadata": {},
            "source": "\n### \ud83d\udce2 Stay Updated\n\nBe sure to \u2b50 this repository to stay updated with new examples and enhancements!\n\n### \ud83d\udcc4 License\n\ud83d\udd10 This project is protected under the [MIT License](https://mit-license.org/).\n\n### Contact \ud83d\udce7\nPanagiotis Moschos - pan.moschos86@gmail.com\n\n\ud83d\udd17 *Note: This is a Python script and requires a Python interpreter to run.*\n\n---\n\n<h1 align=center>Happy Coding \ud83d\udc68\u200d\ud83d\udcbb </h1>\n\n<p align=\"center\">\n  Made with \u2764\ufe0f by Panagiotis Moschos (https://github.com/pmoschos)\n</p>"
        }
    ],
    "metadata": {},
    "nbformat": 4,
    "nbformat_minor": 5
}