{
    "cells": [
        {
            "cell_type": "markdown",
            "metadata": {},
            "source": "\n# 15 Tuple Assessments in Python \ud83d\udc0d\n\nThis document provides 15 tuple assessments in Python, ranging from easy to hard, including their solutions and expected results.\n\n## Easy Assessments\n\n### 1. \ud83d\udd0d Access Tuple Elements\nWrite a function that accesses the elements of a tuple.\n"
        },
        {
            "cell_type": "code",
            "execution_count": null,
            "metadata": {},
            "outputs": [],
            "source": "def access_elements(tpl):\n    return tpl[0], tpl[-1]\n\n# Test\nprint(access_elements((1, 2, 3, 4, 5)))  # Output: (1, 5)"
        },
        {
            "cell_type": "markdown",
            "metadata": {},
            "source": "\n### 2. \u2795 Concatenate Tuples\nWrite a function to concatenate two tuples.\n"
        },
        {
            "cell_type": "code",
            "execution_count": null,
            "metadata": {},
            "outputs": [],
            "source": "def concatenate_tuples(tpl1, tpl2):\n    return tpl1 + tpl2\n\n# Test\nprint(concatenate_tuples((1, 2), (3, 4)))  # Output: (1, 2, 3, 4)"
        },
        {
            "cell_type": "markdown",
            "metadata": {},
            "source": "\n### 3. \ud83d\udccf Find Length of Tuple\nWrite a function to find the length of a tuple.\n"
        },
        {
            "cell_type": "code",
            "execution_count": null,
            "metadata": {},
            "outputs": [],
            "source": "def tuple_length(tpl):\n    return len(tpl)\n\n# Test\nprint(tuple_length((1, 2, 3, 4, 5)))  # Output: 5"
        },
        {
            "cell_type": "markdown",
            "metadata": {},
            "source": "\n### 4. \u2705 Check Element in Tuple\nWrite a function to check if an element exists in a tuple.\n"
        },
        {
            "cell_type": "code",
            "execution_count": null,
            "metadata": {},
            "outputs": [],
            "source": "def check_element(tpl, elem):\n    return elem in tpl\n\n# Test\nprint(check_element((1, 2, 3, 4, 5), 3))  # Output: True"
        },
        {
            "cell_type": "markdown",
            "metadata": {},
            "source": "\n### 5. \ud83d\udd04 Convert List to Tuple\nWrite a function to convert a list to a tuple.\n"
        },
        {
            "cell_type": "code",
            "execution_count": null,
            "metadata": {},
            "outputs": [],
            "source": "def list_to_tuple(lst):\n    return tuple(lst)\n\n# Test\nprint(list_to_tuple([1, 2, 3, 4, 5]))  # Output: (1, 2, 3, 4, 5)"
        },
        {
            "cell_type": "markdown",
            "metadata": {},
            "source": "\n## Medium Assessments\n\n### 6. \ud83d\udd13 Unpack Tuple\nWrite a function to unpack the elements of a tuple into variables.\n"
        },
        {
            "cell_type": "code",
            "execution_count": null,
            "metadata": {},
            "outputs": [],
            "source": "def unpack_tuple(tpl):\n    a, b, c = tpl\n    return a, b, c\n\n# Test\nprint(unpack_tuple((1, 2, 3)))  # Output: (1, 2, 3)"
        },
        {
            "cell_type": "markdown",
            "metadata": {},
            "source": "\n### 7. \ud83d\udd0d Find Index of Element\nWrite a function to find the index of an element in a tuple.\n"
        },
        {
            "cell_type": "code",
            "execution_count": null,
            "metadata": {},
            "outputs": [],
            "source": "def index_of_element(tpl, elem):\n    return tpl.index(elem)\n\n# Test\nprint(index_of_element((1, 2, 3, 4, 5), 3))  # Output: 2"
        },
        {
            "cell_type": "markdown",
            "metadata": {},
            "source": "\n### 8. \ud83d\udd22 Count Element in Tuple\nWrite a function to count the number of times an element appears in a tuple.\n"
        },
        {
            "cell_type": "code",
            "execution_count": null,
            "metadata": {},
            "outputs": [],
            "source": "def count_element(tpl, elem):\n    return tpl.count(elem)\n\n# Test\nprint(count_element((1, 2, 2, 3, 4, 4, 5), 2))  # Output: 2"
        },
        {
            "cell_type": "markdown",
            "metadata": {},
            "source": "\n### 9. \ud83d\udd04 Convert Tuple to List\nWrite a function to convert a tuple to a list.\n"
        },
        {
            "cell_type": "code",
            "execution_count": null,
            "metadata": {},
            "outputs": [],
            "source": "def tuple_to_list(tpl):\n    return list(tpl)\n\n# Test\nprint(tuple_to_list((1, 2, 3, 4, 5)))  # Output: [1, 2, 3, 4, 5]"
        },
        {
            "cell_type": "markdown",
            "metadata": {},
            "source": "\n### 10. \u2716\ufe0f Multiply Elements in Tuple\nWrite a function to multiply each element in a tuple by a given number.\n"
        },
        {
            "cell_type": "code",
            "execution_count": null,
            "metadata": {},
            "outputs": [],
            "source": "def multiply_elements(tpl, num):\n    return tuple(x * num for x in tpl)\n\n# Test\nprint(multiply_elements((1, 2, 3), 2))  # Output: (2, 4, 6)"
        },
        {
            "cell_type": "markdown",
            "metadata": {},
            "source": "\n## Hard Assessments\n\n### 11. \ud83d\udd0d Find Min and Max\nWrite a function to find the minimum and maximum elements in a tuple.\n"
        },
        {
            "cell_type": "code",
            "execution_count": null,
            "metadata": {},
            "outputs": [],
            "source": "def min_max_elements(tpl):\n    return min(tpl), max(tpl)\n\n# Test\nprint(min_max_elements((1, 2, 3, 4, 5)))  # Output: (1, 5)"
        },
        {
            "cell_type": "markdown",
            "metadata": {},
            "source": "\n### 12. \ud83d\udd04 Convert Tuple of Tuples to a Single Tuple\nWrite a function to convert a tuple of tuples into a single tuple.\n"
        },
        {
            "cell_type": "code",
            "execution_count": null,
            "metadata": {},
            "outputs": [],
            "source": "def flatten_tuple(tpl):\n    return tuple(item for subtuple in tpl for item in subtuple)\n\n# Test\nprint(flatten_tuple(((1, 2), (3, 4), (5, 6))))  # Output: (1, 2, 3, 4, 5, 6)"
        },
        {
            "cell_type": "markdown",
            "metadata": {},
            "source": "\n### 13. \ud83d\udd04 Sort Tuple\nWrite a function to sort the elements of a tuple.\n"
        },
        {
            "cell_type": "code",
            "execution_count": null,
            "metadata": {},
            "outputs": [],
            "source": "def sort_tuple(tpl):\n    return tuple(sorted(tpl))\n\n# Test\nprint(sort_tuple((3, 1, 2, 5, 4)))  # Output: (1, 2, 3, 4, 5)"
        },
        {
            "cell_type": "markdown",
            "metadata": {},
            "source": "\n### 14. \ud83d\udd04 Find Duplicates in Tuple\nWrite a function to find duplicate elements in a tuple.\n"
        },
        {
            "cell_type": "code",
            "execution_count": null,
            "metadata": {},
            "outputs": [],
            "source": "def find_duplicates(tpl):\n    return tuple(x for x in set(tpl) if tpl.count(x) > 1)\n\n# Test\nprint(find_duplicates((1, 2, 2, 3, 3, 3, 4)))  # Output: (2, 3)"
        },
        {
            "cell_type": "markdown",
            "metadata": {},
            "source": "\n### 15. \ud83d\udd17 Merge Tuple Elements into String\nWrite a function to merge the elements of a tuple into a single string with a separator.\n"
        },
        {
            "cell_type": "code",
            "execution_count": null,
            "metadata": {},
            "outputs": [],
            "source": "def merge_with_separator(tpl, sep):\n    return sep.join(map(str, tpl))\n\n# Test\nprint(merge_with_separator((1, 2, 3), '-'))  # Output: \"1-2-3\""
        },
        {
            "cell_type": "markdown",
            "metadata": {},
            "source": "\n### \ud83d\udce2 Stay Updated\n\nBe sure to \u2b50 this repository to stay updated with new examples and enhancements!\n\n### \ud83d\udcc4 License\n\ud83d\udd10 This project is protected under the [MIT License](https://mit-license.org/).\n\n### Contact \ud83d\udce7\nPanagiotis Moschos - pan.moschos86@gmail.com\n\n\ud83d\udd17 *Note: This is a Python script and requires a Python interpreter to run.*\n\n---\n\n<h1 align=center>Happy Coding \ud83d\udc68\u200d\ud83d\udcbb </h1>\n\n<p align=\"center\">\n  Made with \u2764\ufe0f by Panagiotis Moschos (https://github.com/pmoschos)\n</p>"
        }
    ],
    "metadata": {},
    "nbformat": 4,
    "nbformat_minor": 5
}